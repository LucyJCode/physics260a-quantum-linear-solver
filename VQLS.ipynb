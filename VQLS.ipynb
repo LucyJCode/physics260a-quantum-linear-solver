{
 "cells": [
  {
   "cell_type": "code",
   "execution_count": 121,
   "metadata": {},
   "outputs": [],
   "source": [
    "import qiskit\n",
    "from qiskit import QuantumCircuit, QuantumRegister, ClassicalRegister\n",
    "from qiskit import Aer, transpile, assemble\n",
    "import cmath\n",
    "import random\n",
    "import numpy as np\n",
    "from scipy.optimize import minimize\n",
    "from qiskit.quantum_info.operators import Operator, Pauli\n",
    "from qiskit.extensions import UnitaryGate\n",
    "\n"
   ]
  },
  {
   "cell_type": "code",
   "execution_count": 122,
   "metadata": {},
   "outputs": [],
   "source": [
    "def convert_unitary_to_operator(theta):\n",
    "    mat = [\n",
    "        [cmath.cos(theta), -cmath.sin(theta)],\n",
    "        [cmath.sin(theta), cmath.cos(theta)]\n",
    "    ]\n",
    "    return Operator(mat)"
   ]
  },
  {
   "cell_type": "code",
   "execution_count": 123,
   "metadata": {},
   "outputs": [],
   "source": [
    "def convert_unitary_to_gate(theta):\n",
    "    mat = [\n",
    "        [cmath.cos(theta), -cmath.sin(theta)],\n",
    "        [cmath.sin(theta), cmath.cos(theta)]\n",
    "    ]\n",
    "    return UnitaryGate(mat)"
   ]
  },
  {
   "cell_type": "code",
   "execution_count": 124,
   "metadata": {},
   "outputs": [
    {
     "data": {
      "text/plain": [
       "Instruction(name='unitary', num_qubits=1, num_clbits=0, params=[array([[ 0.70710678-0.j, -0.70710678-0.j],\n",
       "       [ 0.70710678+0.j,  0.70710678-0.j]])])"
      ]
     },
     "execution_count": 124,
     "metadata": {},
     "output_type": "execute_result"
    }
   ],
   "source": [
    "convert_unitary_to_gate(np.pi/4)"
   ]
  },
  {
   "cell_type": "code",
   "execution_count": 89,
   "metadata": {},
   "outputs": [
    {
     "data": {
      "text/html": [
       "<pre style=\"word-wrap: normal;white-space: pre;background: #fff0;line-height: 1.1;font-family: &quot;Courier New&quot;,Courier,monospace\">     ┌───────┐      ┌───────┐      ┌───────┐\n",
       "q_0: ┤ Ry(1) ├─■──■─┤ Ry(1) ├────■─┤ Ry(1) ├\n",
       "     ├───────┤ │  │ ├───────┤    │ ├───────┤\n",
       "q_1: ┤ Ry(1) ├─■──┼─┤ Ry(1) ├─■──┼─┤ Ry(1) ├\n",
       "     ├───────┤    │ ├───────┤ │  │ ├───────┤\n",
       "q_2: ┤ Ry(1) ├────■─┤ Ry(1) ├─■──■─┤ Ry(1) ├\n",
       "     └───────┘      └───────┘      └───────┘</pre>"
      ],
      "text/plain": [
       "     ┌───────┐      ┌───────┐      ┌───────┐\n",
       "q_0: ┤ Ry(1) ├─■──■─┤ Ry(1) ├────■─┤ Ry(1) ├\n",
       "     ├───────┤ │  │ ├───────┤    │ ├───────┤\n",
       "q_1: ┤ Ry(1) ├─■──┼─┤ Ry(1) ├─■──┼─┤ Ry(1) ├\n",
       "     ├───────┤    │ ├───────┤ │  │ ├───────┤\n",
       "q_2: ┤ Ry(1) ├────■─┤ Ry(1) ├─■──■─┤ Ry(1) ├\n",
       "     └───────┘      └───────┘      └───────┘"
      ]
     },
     "execution_count": 89,
     "metadata": {},
     "output_type": "execute_result"
    }
   ],
   "source": [
    "def apply_fixed_ansatz(qubits, parameters):\n",
    "\n",
    "    for iz in range (0, len(qubits)):\n",
    "        circ.ry(parameters[0][iz], qubits[iz])\n",
    "\n",
    "    circ.cz(qubits[0], qubits[1])\n",
    "    circ.cz(qubits[2], qubits[0])\n",
    "\n",
    "    for iz in range (0, len(qubits)):\n",
    "        circ.ry(parameters[1][iz], qubits[iz])\n",
    "\n",
    "    circ.cz(qubits[1], qubits[2])\n",
    "    circ.cz(qubits[2], qubits[0])\n",
    "\n",
    "    for iz in range (0, len(qubits)):\n",
    "        circ.ry(parameters[2][iz], qubits[iz])\n",
    "\n",
    "circ = QuantumCircuit(3)\n",
    "apply_fixed_ansatz([0, 1, 2], [ [1, 1, 1], [1, 1, 1], [1, 1, 1] ])\n",
    "circ.draw()"
   ]
  },
  {
   "cell_type": "code",
   "execution_count": 99,
   "metadata": {},
   "outputs": [
    {
     "data": {
      "text/html": [
       "<pre style=\"word-wrap: normal;white-space: pre;background: #fff0;line-height: 1.1;font-family: &quot;Courier New&quot;,Courier,monospace\">       ┌───┐                                   ┌───┐\n",
       "q_0: ──┤ H ├─────────────────────────────────■─┤ H ├\n",
       "     ┌─┴───┴─┐      ┌───────┐      ┌───────┐ │ └───┘\n",
       "q_1: ┤ Ry(1) ├─■──■─┤ Ry(1) ├────■─┤ Ry(1) ├─┼──────\n",
       "     ├───────┤ │  │ ├───────┤    │ ├───────┤ │      \n",
       "q_2: ┤ Ry(1) ├─■──┼─┤ Ry(1) ├─■──┼─┤ Ry(1) ├─┼──────\n",
       "     ├───────┤    │ ├───────┤ │  │ ├───────┤ │      \n",
       "q_3: ┤ Ry(1) ├────■─┤ Ry(1) ├─■──■─┤ Ry(1) ├─■──────\n",
       "     └───────┘      └───────┘      └───────┘        </pre>"
      ],
      "text/plain": [
       "       ┌───┐                                   ┌───┐\n",
       "q_0: ──┤ H ├─────────────────────────────────■─┤ H ├\n",
       "     ┌─┴───┴─┐      ┌───────┐      ┌───────┐ │ └───┘\n",
       "q_1: ┤ Ry(1) ├─■──■─┤ Ry(1) ├────■─┤ Ry(1) ├─┼──────\n",
       "     ├───────┤ │  │ ├───────┤    │ ├───────┤ │      \n",
       "q_2: ┤ Ry(1) ├─■──┼─┤ Ry(1) ├─■──┼─┤ Ry(1) ├─┼──────\n",
       "     ├───────┤    │ ├───────┤ │  │ ├───────┤ │      \n",
       "q_3: ┤ Ry(1) ├────■─┤ Ry(1) ├─■──■─┤ Ry(1) ├─■──────\n",
       "     └───────┘      └───────┘      └───────┘        "
      ]
     },
     "execution_count": 99,
     "metadata": {},
     "output_type": "execute_result"
    }
   ],
   "source": [
    "# Creates the Hadamard test\n",
    "\n",
    "def had_test(gate_type, qubits, auxiliary_index, parameters):\n",
    "\n",
    "    circ.h(auxiliary_index)\n",
    "\n",
    "    apply_fixed_ansatz(qubits, parameters)\n",
    "\n",
    "    for first in range (0, len(gate_type)):\n",
    "        for ie in range (0, len(gate_type[0])):\n",
    "            if (gate_type[first][ie] == 1):\n",
    "                circ.cz(auxiliary_index, qubits[ie])\n",
    "            elif (gate_type[first][ie] == 2):\n",
    "                # print(2)\n",
    "                circ.cx(auxiliary_index, qubits[ie])\n",
    "            elif (gate_type[first][ie] == 3):\n",
    "                circ.cy(auxiliary_index, qubits[ie])\n",
    "    \n",
    "    circ.h(auxiliary_index)\n",
    "    \n",
    "circ = QuantumCircuit(4)\n",
    "had_test([ [0, 0, 0], [0, 0, 1] ], [1, 2, 3], 0, [ [1, 1, 1], [1, 1, 1], [1, 1, 1] ])\n",
    "circ.draw()"
   ]
  },
  {
   "cell_type": "code",
   "execution_count": 100,
   "metadata": {},
   "outputs": [
    {
     "data": {
      "text/html": [
       "<pre style=\"word-wrap: normal;white-space: pre;background: #fff0;line-height: 1.1;font-family: &quot;Courier New&quot;,Courier,monospace\">                                                                         »\n",
       "q228268_0: ────■────────■────────■──────■───────■────■───────■──────■────»\n",
       "           ┌───┴───┐    │        │      │       │    │       │  ┌───┴───┐»\n",
       "q228268_1: ┤ Ry(1) ├────┼────────┼──────┼───■───┼────■───────■──┤ Ry(1) ├»\n",
       "           └───────┘┌───┴───┐    │      │   │   │    │       │  └───────┘»\n",
       "q228268_2: ─────────┤ Ry(1) ├────┼──────■───┼───■────┼───────┼───────────»\n",
       "                    └───────┘┌───┴───┐  │   │   │    │       │           »\n",
       "q228268_3: ──────────────────┤ Ry(1) ├──┼───┼───┼────┼───■───┼───────────»\n",
       "                             └───────┘┌─┴─┐ │ ┌─┴─┐┌─┴─┐ │ ┌─┴─┐         »\n",
       "q228268_4: ───────────────────────────┤ X ├─■─┤ X ├┤ X ├─■─┤ X ├─────────»\n",
       "                                      └───┘   └───┘└───┘   └───┘         »\n",
       "«                                                                         »\n",
       "«q228268_0: ────■────────■──────■───────■────■───────■──────■────────■────»\n",
       "«               │        │      │       │    │       │  ┌───┴───┐    │    »\n",
       "«q228268_1: ────┼────────┼──────┼───────┼────■───────■──┤ Ry(1) ├────┼────»\n",
       "«           ┌───┴───┐    │      │       │    │       │  └───────┘┌───┴───┐»\n",
       "«q228268_2: ┤ Ry(1) ├────┼──────┼───■───┼────┼───────┼───────────┤ Ry(1) ├»\n",
       "«           └───────┘┌───┴───┐  │   │   │    │       │           └───────┘»\n",
       "«q228268_3: ─────────┤ Ry(1) ├──■───┼───■────┼───■───┼────────────────────»\n",
       "«                    └───────┘┌─┴─┐ │ ┌─┴─┐┌─┴─┐ │ ┌─┴─┐                  »\n",
       "«q228268_4: ──────────────────┤ X ├─■─┤ X ├┤ X ├─■─┤ X ├──────────────────»\n",
       "«                             └───┘   └───┘└───┘   └───┘                  »\n",
       "«                    \n",
       "«q228268_0: ────■────\n",
       "«               │    \n",
       "«q228268_1: ────┼────\n",
       "«               │    \n",
       "«q228268_2: ────┼────\n",
       "«           ┌───┴───┐\n",
       "«q228268_3: ┤ Ry(1) ├\n",
       "«           └───────┘\n",
       "«q228268_4: ─────────\n",
       "«                    </pre>"
      ],
      "text/plain": [
       "                                                                         »\n",
       "q228268_0: ────■────────■────────■──────■───────■────■───────■──────■────»\n",
       "           ┌───┴───┐    │        │      │       │    │       │  ┌───┴───┐»\n",
       "q228268_1: ┤ Ry(1) ├────┼────────┼──────┼───■───┼────■───────■──┤ Ry(1) ├»\n",
       "           └───────┘┌───┴───┐    │      │   │   │    │       │  └───────┘»\n",
       "q228268_2: ─────────┤ Ry(1) ├────┼──────■───┼───■────┼───────┼───────────»\n",
       "                    └───────┘┌───┴───┐  │   │   │    │       │           »\n",
       "q228268_3: ──────────────────┤ Ry(1) ├──┼───┼───┼────┼───■───┼───────────»\n",
       "                             └───────┘┌─┴─┐ │ ┌─┴─┐┌─┴─┐ │ ┌─┴─┐         »\n",
       "q228268_4: ───────────────────────────┤ X ├─■─┤ X ├┤ X ├─■─┤ X ├─────────»\n",
       "                                      └───┘   └───┘└───┘   └───┘         »\n",
       "«                                                                         »\n",
       "«q228268_0: ────■────────■──────■───────■────■───────■──────■────────■────»\n",
       "«               │        │      │       │    │       │  ┌───┴───┐    │    »\n",
       "«q228268_1: ────┼────────┼──────┼───────┼────■───────■──┤ Ry(1) ├────┼────»\n",
       "«           ┌───┴───┐    │      │       │    │       │  └───────┘┌───┴───┐»\n",
       "«q228268_2: ┤ Ry(1) ├────┼──────┼───■───┼────┼───────┼───────────┤ Ry(1) ├»\n",
       "«           └───────┘┌───┴───┐  │   │   │    │       │           └───────┘»\n",
       "«q228268_3: ─────────┤ Ry(1) ├──■───┼───■────┼───■───┼────────────────────»\n",
       "«                    └───────┘┌─┴─┐ │ ┌─┴─┐┌─┴─┐ │ ┌─┴─┐                  »\n",
       "«q228268_4: ──────────────────┤ X ├─■─┤ X ├┤ X ├─■─┤ X ├──────────────────»\n",
       "«                             └───┘   └───┘└───┘   └───┘                  »\n",
       "«                    \n",
       "«q228268_0: ────■────\n",
       "«               │    \n",
       "«q228268_1: ────┼────\n",
       "«               │    \n",
       "«q228268_2: ────┼────\n",
       "«           ┌───┴───┐\n",
       "«q228268_3: ┤ Ry(1) ├\n",
       "«           └───────┘\n",
       "«q228268_4: ─────────\n",
       "«                    "
      ]
     },
     "execution_count": 100,
     "metadata": {},
     "output_type": "execute_result"
    }
   ],
   "source": [
    "# Creates controlled anstaz for calculating |<b|psi>|^2 with a Hadamard test\n",
    "\n",
    "def control_fixed_ansatz(qubits, parameters, auxiliary, reg):\n",
    "\n",
    "    for i in range (0, len(qubits)):\n",
    "        circ.cry(parameters[0][i], qiskit.circuit.Qubit(reg, auxiliary), qiskit.circuit.Qubit(reg, qubits[i]))\n",
    "\n",
    "    circ.ccx(auxiliary, qubits[1], 4)\n",
    "    circ.cz(qubits[0], 4)\n",
    "    circ.ccx(auxiliary, qubits[1], 4)\n",
    "\n",
    "    circ.ccx(auxiliary, qubits[0], 4)\n",
    "    circ.cz(qubits[2], 4)\n",
    "    circ.ccx(auxiliary, qubits[0], 4)\n",
    "\n",
    "    for i in range (0, len(qubits)):\n",
    "        circ.cry(parameters[1][i], qiskit.circuit.Qubit(reg, auxiliary), qiskit.circuit.Qubit(reg, qubits[i]))\n",
    "\n",
    "    circ.ccx(auxiliary, qubits[2], 4)\n",
    "    circ.cz(qubits[1], 4)\n",
    "    circ.ccx(auxiliary, qubits[2], 4)\n",
    "\n",
    "    circ.ccx(auxiliary, qubits[0], 4)\n",
    "    circ.cz(qubits[2], 4)\n",
    "    circ.ccx(auxiliary, qubits[0], 4)\n",
    "\n",
    "    for i in range (0, len(qubits)):\n",
    "        circ.cry(parameters[2][i], qiskit.circuit.Qubit(reg, auxiliary), qiskit.circuit.Qubit(reg, qubits[i]))\n",
    "\n",
    "q_reg = QuantumRegister(5)\n",
    "circ = QuantumCircuit(q_reg)\n",
    "control_fixed_ansatz([1, 2, 3], [ [1, 1, 1], [1, 1, 1], [1, 1, 1] ], 0, q_reg)\n",
    "circ.draw()"
   ]
  },
  {
   "cell_type": "code",
   "execution_count": 129,
   "metadata": {},
   "outputs": [
    {
     "name": "stderr",
     "output_type": "stream",
     "text": [
      "/Users/lucyjiao/miniforge3/envs/quantum/lib/python3.11/site-packages/numpy/linalg/linalg.py:2154: RuntimeWarning: divide by zero encountered in det\n",
      "  r = _umath_linalg.det(a, signature=signature)\n",
      "/Users/lucyjiao/miniforge3/envs/quantum/lib/python3.11/site-packages/numpy/linalg/linalg.py:2154: RuntimeWarning: invalid value encountered in det\n",
      "  r = _umath_linalg.det(a, signature=signature)\n"
     ]
    },
    {
     "data": {
      "text/html": [
       "<pre style=\"word-wrap: normal;white-space: pre;background: #fff0;line-height: 1.1;font-family: &quot;Courier New&quot;,Courier,monospace\">                \n",
       "q_0: ─────■─────\n",
       "     ┌────┴────┐\n",
       "q_1: ┤ Unitary ├\n",
       "     └─────────┘\n",
       "q_2: ───────────\n",
       "                \n",
       "q_3: ───────────\n",
       "                </pre>"
      ],
      "text/plain": [
       "                \n",
       "q_0: ─────■─────\n",
       "     ┌────┴────┐\n",
       "q_1: ┤ Unitary ├\n",
       "     └─────────┘\n",
       "q_2: ───────────\n",
       "                \n",
       "q_3: ───────────\n",
       "                "
      ]
     },
     "execution_count": 129,
     "metadata": {},
     "output_type": "execute_result"
    }
   ],
   "source": [
    "u = convert_unitary_to_gate(np.pi/4)\n",
    "def control_b(auxiliary, qubits):\n",
    "    # u_circuit = QuantumCircuit(1, name='u')\n",
    "    # u_circuit.append(u)\n",
    "\n",
    "    # bs_gate = u_circuit.to_gate()\n",
    "\n",
    "    # print(bs_gate)\n",
    "    cb = u.control(1)\n",
    "\n",
    "    circ.append(cb, [auxiliary, 1])\n",
    "\n",
    "    # for ia in qubits:\n",
    "    #     circ.ch(auxiliary, ia)\n",
    "\n",
    "circ = QuantumCircuit(4)\n",
    "control_b(0, [1, 2, 3])\n",
    "circ.draw()"
   ]
  },
  {
   "cell_type": "code",
   "execution_count": 130,
   "metadata": {},
   "outputs": [
    {
     "data": {
      "text/html": [
       "<pre style=\"word-wrap: normal;white-space: pre;background: #fff0;line-height: 1.1;font-family: &quot;Courier New&quot;,Courier,monospace\">           ┌───┐                                                              »\n",
       "q243533_0: ┤ H ├────■────────■────────■──────■───────■────■───────■──────■────»\n",
       "           └───┘┌───┴───┐    │        │      │       │    │       │  ┌───┴───┐»\n",
       "q243533_1: ─────┤ Ry(1) ├────┼────────┼──────┼───■───┼────■───────■──┤ Ry(1) ├»\n",
       "                └───────┘┌───┴───┐    │      │   │   │    │       │  └───────┘»\n",
       "q243533_2: ──────────────┤ Ry(1) ├────┼──────■───┼───■────┼───────┼───────────»\n",
       "                         └───────┘┌───┴───┐  │   │   │    │       │           »\n",
       "q243533_3: ───────────────────────┤ Ry(1) ├──┼───┼───┼────┼───■───┼───────────»\n",
       "                                  └───────┘┌─┴─┐ │ ┌─┴─┐┌─┴─┐ │ ┌─┴─┐         »\n",
       "q243533_4: ────────────────────────────────┤ X ├─■─┤ X ├┤ X ├─■─┤ X ├─────────»\n",
       "                                           └───┘   └───┘└───┘   └───┘         »\n",
       "«                                                                         »\n",
       "«q243533_0: ────■────────■──────■───────■────■───────■──────■────────■────»\n",
       "«               │        │      │       │    │       │  ┌───┴───┐    │    »\n",
       "«q243533_1: ────┼────────┼──────┼───────┼────■───────■──┤ Ry(1) ├────┼────»\n",
       "«           ┌───┴───┐    │      │       │    │       │  └───────┘┌───┴───┐»\n",
       "«q243533_2: ┤ Ry(1) ├────┼──────┼───■───┼────┼───────┼───────────┤ Ry(1) ├»\n",
       "«           └───────┘┌───┴───┐  │   │   │    │       │           └───────┘»\n",
       "«q243533_3: ─────────┤ Ry(1) ├──■───┼───■────┼───■───┼────────────────────»\n",
       "«                    └───────┘┌─┴─┐ │ ┌─┴─┐┌─┴─┐ │ ┌─┴─┐                  »\n",
       "«q243533_4: ──────────────────┤ X ├─■─┤ X ├┤ X ├─■─┤ X ├──────────────────»\n",
       "«                             └───┘   └───┘└───┘   └───┘                  »\n",
       "«                               ┌───┐\n",
       "«q243533_0: ────■─────────■─────┤ H ├\n",
       "«               │    ┌────┴────┐└───┘\n",
       "«q243533_1: ────┼────┤ Unitary ├─────\n",
       "«               │    └─────────┘     \n",
       "«q243533_2: ────┼────────────────────\n",
       "«           ┌───┴───┐                \n",
       "«q243533_3: ┤ Ry(1) ├────────────────\n",
       "«           └───────┘                \n",
       "«q243533_4: ─────────────────────────\n",
       "«                                    </pre>"
      ],
      "text/plain": [
       "           ┌───┐                                                              »\n",
       "q243533_0: ┤ H ├────■────────■────────■──────■───────■────■───────■──────■────»\n",
       "           └───┘┌───┴───┐    │        │      │       │    │       │  ┌───┴───┐»\n",
       "q243533_1: ─────┤ Ry(1) ├────┼────────┼──────┼───■───┼────■───────■──┤ Ry(1) ├»\n",
       "                └───────┘┌───┴───┐    │      │   │   │    │       │  └───────┘»\n",
       "q243533_2: ──────────────┤ Ry(1) ├────┼──────■───┼───■────┼───────┼───────────»\n",
       "                         └───────┘┌───┴───┐  │   │   │    │       │           »\n",
       "q243533_3: ───────────────────────┤ Ry(1) ├──┼───┼───┼────┼───■───┼───────────»\n",
       "                                  └───────┘┌─┴─┐ │ ┌─┴─┐┌─┴─┐ │ ┌─┴─┐         »\n",
       "q243533_4: ────────────────────────────────┤ X ├─■─┤ X ├┤ X ├─■─┤ X ├─────────»\n",
       "                                           └───┘   └───┘└───┘   └───┘         »\n",
       "«                                                                         »\n",
       "«q243533_0: ────■────────■──────■───────■────■───────■──────■────────■────»\n",
       "«               │        │      │       │    │       │  ┌───┴───┐    │    »\n",
       "«q243533_1: ────┼────────┼──────┼───────┼────■───────■──┤ Ry(1) ├────┼────»\n",
       "«           ┌───┴───┐    │      │       │    │       │  └───────┘┌───┴───┐»\n",
       "«q243533_2: ┤ Ry(1) ├────┼──────┼───■───┼────┼───────┼───────────┤ Ry(1) ├»\n",
       "«           └───────┘┌───┴───┐  │   │   │    │       │           └───────┘»\n",
       "«q243533_3: ─────────┤ Ry(1) ├──■───┼───■────┼───■───┼────────────────────»\n",
       "«                    └───────┘┌─┴─┐ │ ┌─┴─┐┌─┴─┐ │ ┌─┴─┐                  »\n",
       "«q243533_4: ──────────────────┤ X ├─■─┤ X ├┤ X ├─■─┤ X ├──────────────────»\n",
       "«                             └───┘   └───┘└───┘   └───┘                  »\n",
       "«                               ┌───┐\n",
       "«q243533_0: ────■─────────■─────┤ H ├\n",
       "«               │    ┌────┴────┐└───┘\n",
       "«q243533_1: ────┼────┤ Unitary ├─────\n",
       "«               │    └─────────┘     \n",
       "«q243533_2: ────┼────────────────────\n",
       "«           ┌───┴───┐                \n",
       "«q243533_3: ┤ Ry(1) ├────────────────\n",
       "«           └───────┘                \n",
       "«q243533_4: ─────────────────────────\n",
       "«                                    "
      ]
     },
     "execution_count": 130,
     "metadata": {},
     "output_type": "execute_result"
    }
   ],
   "source": [
    "# Create the controlled Hadamard test, for calculating <psi|psi>\n",
    "\n",
    "def special_had_test(gate_type, qubits, auxiliary_index, parameters, reg):\n",
    "\n",
    "    circ.h(auxiliary_index)\n",
    "\n",
    "    control_fixed_ansatz(qubits, parameters, auxiliary_index, reg)\n",
    "\n",
    "    for ty in range (0, len(gate_type)):\n",
    "        if (gate_type[ty] == 1):\n",
    "            circ.cz(auxiliary_index, qubits[ty])\n",
    "        elif (gate_type[ty] == 2):\n",
    "            circ.cx(auxiliary_index, qubits[ty])\n",
    "        elif (gate_type[ty] == 3):\n",
    "            circ.cy(auxiliary_index, qubits[ty])\n",
    "\n",
    "\n",
    "    control_b(auxiliary_index, qubits)\n",
    "    \n",
    "    circ.h(auxiliary_index)\n",
    "\n",
    "q_reg = QuantumRegister(5)\n",
    "circ = QuantumCircuit(q_reg)\n",
    "special_had_test([ [0, 0, 0], [0, 0, 1] ], [1, 2, 3], 0, [ [1, 1, 1], [1, 1, 1], [1, 1, 1] ], q_reg)\n",
    "circ.draw()"
   ]
  },
  {
   "attachments": {},
   "cell_type": "markdown",
   "metadata": {},
   "source": [
    "## Simulation"
   ]
  },
  {
   "cell_type": "code",
   "execution_count": 103,
   "metadata": {},
   "outputs": [],
   "source": [
    "coefficient_set = [0.55, 0.45]\n",
    "gate_set = [ [0, 0, 0], [0, 0, 1] ]\n",
    "\n",
    "# coefficient_set = [0.55, 0.45]\n",
    "# gate_set = [ [0], [1] ]\n",
    "\n",
    "# Implements the entire cost function on the quantum circuit\n",
    "\n",
    "def calculate_cost_function(parameters):\n",
    "    \n",
    "    global opt\n",
    "\n",
    "    overall_sum_1 = 0\n",
    "    \n",
    "    parameters = [parameters[0:3], parameters[3:6], parameters[6:9] ]\n",
    "\n",
    "    for i in range(0, len(gate_set)):\n",
    "        for j in range(0, len(gate_set)):\n",
    "\n",
    "            global circ\n",
    "\n",
    "            qctl = QuantumRegister(5)\n",
    "            qc = ClassicalRegister(5)\n",
    "            circ = QuantumCircuit(qctl, qc)\n",
    "\n",
    "            backend = Aer.get_backend('aer_simulator')\n",
    "            \n",
    "            multiply = coefficient_set[i]*coefficient_set[j]\n",
    "\n",
    "            had_test([gate_set[i], gate_set[j] ], [1, 2, 3], 0, parameters)\n",
    "\n",
    "            circ.save_statevector()\n",
    "            t_circ = transpile(circ, backend)\n",
    "            # qobj = assemble(t_circ)\n",
    "            job = backend.run(t_circ)\n",
    "\n",
    "            result = job.result()\n",
    "            outputstate = np.real(result.get_statevector(circ, decimals=100))\n",
    "            o = outputstate\n",
    "\n",
    "            m_sum = 0\n",
    "            for l in range (0, len(o)):\n",
    "                if (l%2 == 1):\n",
    "                    n = o[l]**2\n",
    "                    m_sum+=n\n",
    "\n",
    "            overall_sum_1+=multiply*(1-(2*m_sum))\n",
    "\n",
    "    overall_sum_2 = 0\n",
    "\n",
    "    for i in range(0, len(gate_set)):\n",
    "        for j in range(0, len(gate_set)):\n",
    "\n",
    "            multiply = coefficient_set[i]*coefficient_set[j]\n",
    "            mult = 1\n",
    "\n",
    "            for extra in range(0, 2):\n",
    "\n",
    "                qctl = QuantumRegister(5)\n",
    "                qc = ClassicalRegister(5)\n",
    "                circ = QuantumCircuit(qctl, qc)\n",
    "\n",
    "                backend = Aer.get_backend('aer_simulator')\n",
    "\n",
    "                if (extra == 0):\n",
    "                    special_had_test(gate_set[i], [1, 2, 3], 0, parameters, qctl)\n",
    "                if (extra == 1):\n",
    "                    special_had_test(gate_set[j], [1, 2, 3], 0, parameters, qctl)\n",
    "\n",
    "                circ.save_statevector()    \n",
    "                t_circ = transpile(circ, backend)\n",
    "                # qobj = assemble(t_circ)\n",
    "                job = backend.run(t_circ)\n",
    "\n",
    "                result = job.result()\n",
    "                outputstate = np.real(result.get_statevector(circ, decimals=100))\n",
    "                o = outputstate\n",
    "\n",
    "                m_sum = 0\n",
    "                for l in range (0, len(o)):\n",
    "                    if (l%2 == 1):\n",
    "                        n = o[l]**2\n",
    "                        m_sum+=n\n",
    "                mult = mult*(1-(2*m_sum))\n",
    "\n",
    "            overall_sum_2+=multiply*mult\n",
    "            \n",
    "    # print(1-float(overall_sum_2/overall_sum_1))\n",
    "\n",
    "    return 1-float(overall_sum_2/overall_sum_1)"
   ]
  },
  {
   "cell_type": "code",
   "execution_count": 8,
   "metadata": {},
   "outputs": [
    {
     "name": "stderr",
     "output_type": "stream",
     "text": [
      "/var/folders/07/x8mtl3_53h95v_q_0ddbc_fh0000gn/T/ipykernel_33058/2447371092.py:3: DeprecationWarning: The package qiskit.providers.ibmq is being deprecated. Please see https://ibm.biz/provider_migration_guide to get instructions on how to migrate to qiskit-ibm-provider (https://github.com/Qiskit/qiskit-ibm-provider) and qiskit-ibm-runtime (https://github.com/Qiskit/qiskit-ibm-runtime).\n",
      "  IBMQ.save_account('2bb24b1ffb16645433661cd2214aedc8d53fef6a635ac74857b0e282de4e4597754228444daece952006fb5dff87b434835547e926a5539b24f800818c08e394',overwrite=True)\n",
      "/var/folders/07/x8mtl3_53h95v_q_0ddbc_fh0000gn/T/ipykernel_33058/2447371092.py:3: DeprecationWarning: The qiskit.IBMQ entrypoint and the qiskit-ibmq-provider package (accessible from 'qiskit.providers.ibmq`) are deprecated and will be removed in a future release. Instead you should use the qiskit-ibm-provider package which is accessible from 'qiskit_ibm_provider'. You can install it with 'pip install qiskit_ibm_provider'. Just replace 'qiskit.IBMQ' with 'qiskit_ibm_provider.IBMProvider'\n",
      "  IBMQ.save_account('2bb24b1ffb16645433661cd2214aedc8d53fef6a635ac74857b0e282de4e4597754228444daece952006fb5dff87b434835547e926a5539b24f800818c08e394',overwrite=True)\n"
     ]
    }
   ],
   "source": [
    "from qiskit import IBMQ\n",
    "# load IBM account\n",
    "IBMQ.save_account('2bb24b1ffb16645433661cd2214aedc8d53fef6a635ac74857b0e282de4e4597754228444daece952006fb5dff87b434835547e926a5539b24f800818c08e394',overwrite=True)\n",
    "IBMQ.load_account()\n",
    "\n",
    "provider = IBMQ.providers()\n",
    "provider = IBMQ.get_provider(hub='ibm-q-education', group='harvard', project='qse-210')"
   ]
  },
  {
   "cell_type": "code",
   "execution_count": 10,
   "metadata": {},
   "outputs": [],
   "source": [
    "backend=provider.get_backend(\"ibm_perth\")\n",
    "# backend=provider.get_backend(\"ibmq_quito\")"
   ]
  },
  {
   "cell_type": "code",
   "execution_count": 104,
   "metadata": {},
   "outputs": [
    {
     "name": "stdout",
     "output_type": "stream",
     "text": [
      " message: Maximum number of function evaluations has been exceeded.\n",
      " success: False\n",
      "  status: 2\n",
      "     fun: 0.01459525103224757\n",
      "       x: [ 8.790e-01  3.240e+00  1.690e+00  1.380e+00  3.106e+00\n",
      "            1.335e+00  2.978e+00  1.916e+00  6.716e-01]\n",
      "    nfev: 200\n",
      "   maxcv: 0.0\n"
     ]
    }
   ],
   "source": [
    "\n",
    "\n",
    "out = minimize(calculate_cost_function, x0=[float(random.randint(0,3000))/1000 for i in range(0, 9)], method=\"COBYLA\", options={'maxiter':200})\n",
    "print(out)\n",
    "\n",
    "out_f = [out['x'][0:3], out['x'][3:6], out['x'][6:9] ]\n",
    "\n"
   ]
  },
  {
   "cell_type": "code",
   "execution_count": 105,
   "metadata": {},
   "outputs": [
    {
     "name": "stdout",
     "output_type": "stream",
     "text": [
      "     ┌─────────────┐      ┌────────────┐       ┌────────────┐ statevector \n",
      "q_0: ┤ Ry(0.87898) ├─■──■─┤ Ry(1.3804) ├────■──┤ Ry(2.9777) ├──────░──────\n",
      "     └┬────────────┤ │  │ ├────────────┤    │  ├────────────┤      ░      \n",
      "q_1: ─┤ Ry(3.2404) ├─■──┼─┤ Ry(3.1064) ├─■──┼──┤ Ry(1.9155) ├──────░──────\n",
      "      ├────────────┤    │ ├────────────┤ │  │ ┌┴────────────┤      ░      \n",
      "q_2: ─┤ Ry(1.6895) ├────■─┤ Ry(1.3351) ├─■──■─┤ Ry(0.67157) ├──────░──────\n",
      "      └────────────┘      └────────────┘      └─────────────┘      ░      \n",
      "c: 3/═════════════════════════════════════════════════════════════════════\n",
      "                                                                          \n",
      "{'000': 8192}\n",
      "Statevector([-0.05435734+0.j, -0.04535329+0.j, -0.04735666+0.j,\n",
      "             -0.05423474+0.j, -0.44979095+0.j, -0.3990691 +0.j,\n",
      "             -0.59870492+0.j, -0.51941186+0.j],\n",
      "            dims=(2, 2, 2))\n",
      "(-0.9926755507160081+0j)\n"
     ]
    }
   ],
   "source": [
    "circ = QuantumCircuit(3, 3)\n",
    "apply_fixed_ansatz([0, 1, 2], out_f)\n",
    "circ.save_statevector()\n",
    "\n",
    "backend = Aer.get_backend('aer_simulator')\n",
    "t_circ = transpile(circ, backend)\n",
    "print(circ)\n",
    "\n",
    "job = backend.run(t_circ, shots=8192)\n",
    "\n",
    "result = job.result()\n",
    "print(result.get_counts())\n",
    "o = result.get_statevector(circ, decimals=10)\n",
    "print(o)\n",
    "\n",
    "# a1 = coefficient_set[1]*np.array([ [1,0], [0,-1] ])\n",
    "# a2 = coefficient_set[0]*np.array([ [1,0], [0,1]])\n",
    "a1 = coefficient_set[1]*np.array([ [1,0,0,0,0,0,0,0], [0,1,0,0,0,0,0,0], [0,0,1,0,0,0,0,0], [0,0,0,1,0,0,0,0], [0,0,0,0,-1,0,0,0], [0,0,0,0,0,-1,0,0], [0,0,0,0,0,0,-1,0], [0,0,0,0,0,0,0,-1] ])\n",
    "a2 = coefficient_set[0]*np.array([ [1,0,0,0,0,0,0,0], [0,1,0,0,0,0,0,0], [0,0,1,0,0,0,0,0], [0,0,0,1,0,0,0,0], [0,0,0,0,1,0,0,0], [0,0,0,0,0,1,0,0], [0,0,0,0,0,0,1,0], [0,0,0,0,0,0,0,1] ])\n",
    "# a2x = coefficient_set[0]*np.array([ [0,1,0,0,0,0,0,0], [1,0,0,0,0,0,0,0], [0,0,0,1,0,0,0,0], [0,0,1,0,0,0,0,0], [0,0,0,0,0,1,0,0], [0,0,0,0,1,0,0,0], [0,0,0,0,0,0,0,1], [0,0,0,0,0,0,1,0] ])\n",
    "\n",
    "a3 = np.add(a2, a1)\n",
    "\n",
    "# b = np.array([float(1/np.sqrt(2)), float(1/np.sqrt(2))])\n",
    "\n",
    "b = np.array([float(1/np.sqrt(8)),float(1/np.sqrt(8)),float(1/np.sqrt(8)),float(1/np.sqrt(8)),float(1/np.sqrt(8)),float(1/np.sqrt(8)),float(1/np.sqrt(8)),float(1/np.sqrt(8))])\n",
    "\n",
    "print((b.dot(a3.dot(o)/(np.linalg.norm(a3.dot(o))))))\n",
    "\n"
   ]
  },
  {
   "cell_type": "code",
   "execution_count": 50,
   "metadata": {},
   "outputs": [
    {
     "name": "stdout",
     "output_type": "stream",
     "text": [
      "      ┌────────────┐  statevector \n",
      "q_0: ─┤ Ry(2.1747) ├───────░──────\n",
      "     ┌┴────────────┴┐      ░      \n",
      "q_1: ┤ Ry(0.027041) ├──────░──────\n",
      "     └┬───────────┬─┘      ░      \n",
      "q_2: ─┤ Ry(3.142) ├────────░──────\n",
      "      └───────────┘        ░      \n",
      "c: 3/═════════════════════════════\n",
      "                                  \n"
     ]
    }
   ],
   "source": [
    "circ = QuantumCircuit(3, 3)\n",
    "apply_fixed_ansatz([0, 1, 2], out_f)\n",
    "circ.save_statevector()\n",
    "# circ.measure_all(add_bits=False)\n",
    "\n",
    "backend = Aer.get_backend('aer_simulator')\n",
    "t_circ = transpile(circ, backend)\n",
    "# qobj = assemble(t_circ)\n",
    "\n",
    "print(circ)\n"
   ]
  },
  {
   "cell_type": "code",
   "execution_count": 52,
   "metadata": {},
   "outputs": [
    {
     "name": "stdout",
     "output_type": "stream",
     "text": [
      "{'000': 8192}\n",
      "(0.5066062991355671+0j)\n"
     ]
    }
   ],
   "source": [
    "# backend = Aer.get_backend('aer_simulator')\n",
    "\n",
    "\n",
    "job = backend.run(t_circ, shots=8192)\n",
    "\n",
    "result = job.result()\n",
    "print(result.get_counts())\n",
    "o = result.get_statevector(circ, decimals=10)\n",
    "\n",
    "# a1 = coefficient_set[1]*np.array([ [1,0,0,0,0,0,0,0], [0,1,0,0,0,0,0,0], [0,0,1,0,0,0,0,0], [0,0,0,1,0,0,0,0], [0,0,0,0,-1,0,0,0], [0,0,0,0,0,-1,0,0], [0,0,0,0,0,0,-1,0], [0,0,0,0,0,0,0,-1] ])\n",
    "a2 = coefficient_set[0]*np.array([ [1,0,0,0,0,0,0,0], [0,1,0,0,0,0,0,0], [0,0,1,0,0,0,0,0], [0,0,0,1,0,0,0,0], [0,0,0,0,1,0,0,0], [0,0,0,0,0,1,0,0], [0,0,0,0,0,0,1,0], [0,0,0,0,0,0,0,1] ])\n",
    "a2x = coefficient_set[0]*np.array([ [0,1,0,0,0,0,0,0], [1,0,0,0,0,0,0,0], [0,0,0,1,0,0,0,0], [0,0,1,0,0,0,0,0], [0,0,0,0,0,1,0,0], [0,0,0,0,1,0,0,0], [0,0,0,0,0,0,0,1], [0,0,0,0,0,0,1,0] ])\n",
    "\n",
    "a3 = np.add(a2, a2x)\n",
    "\n",
    "b = np.array([float(1/np.sqrt(8)),float(1/np.sqrt(8)),float(1/np.sqrt(8)),float(1/np.sqrt(8)),float(1/np.sqrt(8)),float(1/np.sqrt(8)),float(1/np.sqrt(8)),float(1/np.sqrt(8))])\n",
    "\n",
    "print((b.dot(a3.dot(o)/(np.linalg.norm(a3.dot(o))))))"
   ]
  },
  {
   "cell_type": "code",
   "execution_count": null,
   "metadata": {},
   "outputs": [],
   "source": []
  },
  {
   "cell_type": "code",
   "execution_count": 12,
   "metadata": {},
   "outputs": [
    {
     "name": "stdout",
     "output_type": "stream",
     "text": [
      "(0.9818942624058683+0j)\n"
     ]
    }
   ],
   "source": [
    "print((b.dot(a3.dot(o)/(np.linalg.norm(a3.dot(o))))))"
   ]
  },
  {
   "cell_type": "code",
   "execution_count": 14,
   "metadata": {},
   "outputs": [],
   "source": [
    "def extract_counts(dict):\n",
    "    total_counts = 0\n",
    "    relevant_count0 = 0\n",
    "    relevant_count1 = 0\n",
    "    for key in dict:\n",
    "        if key[0] == '1':\n",
    "            if key[-1] == '1':\n",
    "                relevant_count1 += int(dict[key])\n",
    "            if key[-1] == \"0\":\n",
    "                relevant_count0 += int(dict[key])\n",
    "        total_counts += int(dict[key])\n",
    "    return (relevant_count0/total_counts, relevant_count1/total_counts)\n",
    "\n",
    "def extract_solution(probs):\n",
    "    return (np.sqrt(probs[0]), np.sqrt(probs[1]))\n",
    "\n",
    "def calculate_normalized_fidelity(v1, v2):\n",
    "    return np.dot(np.array(v1)/np.linalg.norm(v1), np.array(v2)/np.linalg.norm(v2))"
   ]
  },
  {
   "cell_type": "code",
   "execution_count": 16,
   "metadata": {},
   "outputs": [
    {
     "name": "stdout",
     "output_type": "stream",
     "text": [
      "(0.529052734375, 0.4615478515625) (0.7273601132692114, 0.679373131322177)\n"
     ]
    }
   ],
   "source": [
    "c = extract_counts(result.get_counts())\n",
    "s = extract_solution(c)\n",
    "print(c, s)"
   ]
  },
  {
   "cell_type": "code",
   "execution_count": 72,
   "metadata": {},
   "outputs": [],
   "source": [
    "quito1 = {'000': 348, '001': 255, '010': 222, '011': 275, '100': 2117, '101': 1530, '110': 2048, '111': 1397}\n",
    "quito2 =  {'000': 350, '001': 247, '010': 189, '011': 258, '100': 2085, '101': 1571, '110': 2067, '111': 1425}\n",
    "quito3 = {'000': 365, '001': 259, '010': 242, '011': 260, '100': 2164, '101': 1531, '110': 1983, '111': 1388}\n",
    "quito4 = {'000': 352, '001': 243, '010': 225, '011': 239, '100': 2139, '101': 1603, '110': 2054, '111': 1337}\n",
    "quito5 = {'000': 315, '001': 282, '010': 209, '011': 267, '100': 2173, '101': 1527, '110': 2018, '111': 1401}\n",
    "q = [quito1, quito2, quito3, quito4, quito5]"
   ]
  },
  {
   "cell_type": "code",
   "execution_count": 73,
   "metadata": {},
   "outputs": [],
   "source": [
    "perth1 = {'000': 196, '001': 193, '010': 195, '011': 163, '100': 1937, '101': 1305, '110': 2509, '111': 1694}\n",
    "perth2 = {'000': 197, '001': 162, '010': 216, '011': 158, '100': 1876, '101': 1339, '110': 2582, '111': 1662}\n",
    "perth3 =  {'000': 184, '001': 188, '010': 207, '011': 170, '100': 1838, '101': 1289, '110': 2604, '111': 1712}\n",
    "perth4 = {'000': 155, '001': 200, '010': 211, '011': 168, '100': 1816, '101': 1292, '110': 2597, '111': 1753}\n",
    "perth5 = {'000': 189, '001': 191, '010': 204, '011': 161, '100': 1964, '101': 1273, '110': 2555, '111': 1655}\n",
    "p = [perth1, perth2, perth3, perth4, perth5]"
   ]
  },
  {
   "cell_type": "code",
   "execution_count": null,
   "metadata": {},
   "outputs": [],
   "source": [
    "p_avg_f = 0\n",
    "q_avg_f = 0\n",
    "\n",
    "for qrun in q:\n",
    "    probs = extract_counts(qrun)"
   ]
  }
 ],
 "metadata": {
  "kernelspec": {
   "display_name": "quantum",
   "language": "python",
   "name": "python3"
  },
  "language_info": {
   "codemirror_mode": {
    "name": "ipython",
    "version": 3
   },
   "file_extension": ".py",
   "mimetype": "text/x-python",
   "name": "python",
   "nbconvert_exporter": "python",
   "pygments_lexer": "ipython3",
   "version": "3.11.3"
  },
  "orig_nbformat": 4
 },
 "nbformat": 4,
 "nbformat_minor": 2
}
