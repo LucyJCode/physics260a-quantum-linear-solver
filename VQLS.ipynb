{
 "cells": [
  {
   "cell_type": "code",
   "execution_count": 2,
   "metadata": {},
   "outputs": [],
   "source": [
    "import qiskit\n",
    "from qiskit import QuantumCircuit, QuantumRegister, ClassicalRegister\n",
    "from qiskit import Aer, transpile, assemble\n",
    "import math\n",
    "import random\n",
    "import numpy as np\n",
    "from scipy.optimize import minimize"
   ]
  },
  {
   "cell_type": "code",
   "execution_count": 3,
   "metadata": {},
   "outputs": [
    {
     "data": {
      "text/html": [
       "<pre style=\"word-wrap: normal;white-space: pre;background: #fff0;line-height: 1.1;font-family: &quot;Courier New&quot;,Courier,monospace\">     ┌───────┐      ┌───────┐      ┌───────┐\n",
       "q_0: ┤ Ry(1) ├─■──■─┤ Ry(1) ├────■─┤ Ry(1) ├\n",
       "     ├───────┤ │  │ ├───────┤    │ ├───────┤\n",
       "q_1: ┤ Ry(1) ├─■──┼─┤ Ry(1) ├─■──┼─┤ Ry(1) ├\n",
       "     ├───────┤    │ ├───────┤ │  │ ├───────┤\n",
       "q_2: ┤ Ry(1) ├────■─┤ Ry(1) ├─■──■─┤ Ry(1) ├\n",
       "     └───────┘      └───────┘      └───────┘</pre>"
      ],
      "text/plain": [
       "     ┌───────┐      ┌───────┐      ┌───────┐\n",
       "q_0: ┤ Ry(1) ├─■──■─┤ Ry(1) ├────■─┤ Ry(1) ├\n",
       "     ├───────┤ │  │ ├───────┤    │ ├───────┤\n",
       "q_1: ┤ Ry(1) ├─■──┼─┤ Ry(1) ├─■──┼─┤ Ry(1) ├\n",
       "     ├───────┤    │ ├───────┤ │  │ ├───────┤\n",
       "q_2: ┤ Ry(1) ├────■─┤ Ry(1) ├─■──■─┤ Ry(1) ├\n",
       "     └───────┘      └───────┘      └───────┘"
      ]
     },
     "execution_count": 3,
     "metadata": {},
     "output_type": "execute_result"
    }
   ],
   "source": [
    "def apply_fixed_ansatz(qubits, parameters):\n",
    "\n",
    "    for iz in range (0, len(qubits)):\n",
    "        circ.ry(parameters[0][iz], qubits[iz])\n",
    "\n",
    "    circ.cz(qubits[0], qubits[1])\n",
    "    circ.cz(qubits[2], qubits[0])\n",
    "\n",
    "    for iz in range (0, len(qubits)):\n",
    "        circ.ry(parameters[1][iz], qubits[iz])\n",
    "\n",
    "    circ.cz(qubits[1], qubits[2])\n",
    "    circ.cz(qubits[2], qubits[0])\n",
    "\n",
    "    for iz in range (0, len(qubits)):\n",
    "        circ.ry(parameters[2][iz], qubits[iz])\n",
    "\n",
    "circ = QuantumCircuit(3)\n",
    "apply_fixed_ansatz([0, 1, 2], [ [1, 1, 1], [1, 1, 1], [1, 1, 1] ])\n",
    "circ.draw()"
   ]
  },
  {
   "cell_type": "code",
   "execution_count": 4,
   "metadata": {},
   "outputs": [
    {
     "data": {
      "text/html": [
       "<pre style=\"word-wrap: normal;white-space: pre;background: #fff0;line-height: 1.1;font-family: &quot;Courier New&quot;,Courier,monospace\">       ┌───┐                                   ┌───┐\n",
       "q_0: ──┤ H ├─────────────────────────────────■─┤ H ├\n",
       "     ┌─┴───┴─┐      ┌───────┐      ┌───────┐ │ └───┘\n",
       "q_1: ┤ Ry(1) ├─■──■─┤ Ry(1) ├────■─┤ Ry(1) ├─┼──────\n",
       "     ├───────┤ │  │ ├───────┤    │ ├───────┤ │      \n",
       "q_2: ┤ Ry(1) ├─■──┼─┤ Ry(1) ├─■──┼─┤ Ry(1) ├─┼──────\n",
       "     ├───────┤    │ ├───────┤ │  │ ├───────┤ │      \n",
       "q_3: ┤ Ry(1) ├────■─┤ Ry(1) ├─■──■─┤ Ry(1) ├─■──────\n",
       "     └───────┘      └───────┘      └───────┘        </pre>"
      ],
      "text/plain": [
       "       ┌───┐                                   ┌───┐\n",
       "q_0: ──┤ H ├─────────────────────────────────■─┤ H ├\n",
       "     ┌─┴───┴─┐      ┌───────┐      ┌───────┐ │ └───┘\n",
       "q_1: ┤ Ry(1) ├─■──■─┤ Ry(1) ├────■─┤ Ry(1) ├─┼──────\n",
       "     ├───────┤ │  │ ├───────┤    │ ├───────┤ │      \n",
       "q_2: ┤ Ry(1) ├─■──┼─┤ Ry(1) ├─■──┼─┤ Ry(1) ├─┼──────\n",
       "     ├───────┤    │ ├───────┤ │  │ ├───────┤ │      \n",
       "q_3: ┤ Ry(1) ├────■─┤ Ry(1) ├─■──■─┤ Ry(1) ├─■──────\n",
       "     └───────┘      └───────┘      └───────┘        "
      ]
     },
     "execution_count": 4,
     "metadata": {},
     "output_type": "execute_result"
    }
   ],
   "source": [
    "# Creates the Hadamard test\n",
    "\n",
    "def had_test(gate_type, qubits, auxiliary_index, parameters):\n",
    "\n",
    "    circ.h(auxiliary_index)\n",
    "\n",
    "    apply_fixed_ansatz(qubits, parameters)\n",
    "\n",
    "    for ie in range (0, len(gate_type[0])):\n",
    "        if (gate_type[0][ie] == 1):\n",
    "            circ.cz(auxiliary_index, qubits[ie])\n",
    "\n",
    "    for ie in range (0, len(gate_type[1])):\n",
    "        if (gate_type[1][ie] == 1):\n",
    "            circ.cz(auxiliary_index, qubits[ie])\n",
    "    \n",
    "    circ.h(auxiliary_index)\n",
    "    \n",
    "circ = QuantumCircuit(4)\n",
    "had_test([ [0, 0, 0], [0, 0, 1] ], [1, 2, 3], 0, [ [1, 1, 1], [1, 1, 1], [1, 1, 1] ])\n",
    "circ.draw()"
   ]
  },
  {
   "cell_type": "code",
   "execution_count": 5,
   "metadata": {},
   "outputs": [
    {
     "data": {
      "text/html": [
       "<pre style=\"word-wrap: normal;white-space: pre;background: #fff0;line-height: 1.1;font-family: &quot;Courier New&quot;,Courier,monospace\">                                                                             »\n",
       "q0_0: ────■────────■────────■──────■───────■────■───────■──────■────────■────»\n",
       "      ┌───┴───┐    │        │      │       │    │       │  ┌───┴───┐    │    »\n",
       "q0_1: ┤ Ry(1) ├────┼────────┼──────┼───■───┼────■───────■──┤ Ry(1) ├────┼────»\n",
       "      └───────┘┌───┴───┐    │      │   │   │    │       │  └───────┘┌───┴───┐»\n",
       "q0_2: ─────────┤ Ry(1) ├────┼──────■───┼───■────┼───────┼───────────┤ Ry(1) ├»\n",
       "               └───────┘┌───┴───┐  │   │   │    │       │           └───────┘»\n",
       "q0_3: ──────────────────┤ Ry(1) ├──┼───┼───┼────┼───■───┼────────────────────»\n",
       "                        └───────┘┌─┴─┐ │ ┌─┴─┐┌─┴─┐ │ ┌─┴─┐                  »\n",
       "q0_4: ───────────────────────────┤ X ├─■─┤ X ├┤ X ├─■─┤ X ├──────────────────»\n",
       "                                 └───┘   └───┘└───┘   └───┘                  »\n",
       "«                                                                    \n",
       "«q0_0: ────■──────■───────■────■───────■──────■────────■────────■────\n",
       "«          │      │       │    │       │  ┌───┴───┐    │        │    \n",
       "«q0_1: ────┼──────┼───────┼────■───────■──┤ Ry(1) ├────┼────────┼────\n",
       "«          │      │       │    │       │  └───────┘┌───┴───┐    │    \n",
       "«q0_2: ────┼──────┼───■───┼────┼───────┼───────────┤ Ry(1) ├────┼────\n",
       "«      ┌───┴───┐  │   │   │    │       │           └───────┘┌───┴───┐\n",
       "«q0_3: ┤ Ry(1) ├──■───┼───■────┼───■───┼────────────────────┤ Ry(1) ├\n",
       "«      └───────┘┌─┴─┐ │ ┌─┴─┐┌─┴─┐ │ ┌─┴─┐                  └───────┘\n",
       "«q0_4: ─────────┤ X ├─■─┤ X ├┤ X ├─■─┤ X ├───────────────────────────\n",
       "«               └───┘   └───┘└───┘   └───┘                           </pre>"
      ],
      "text/plain": [
       "                                                                             »\n",
       "q0_0: ────■────────■────────■──────■───────■────■───────■──────■────────■────»\n",
       "      ┌───┴───┐    │        │      │       │    │       │  ┌───┴───┐    │    »\n",
       "q0_1: ┤ Ry(1) ├────┼────────┼──────┼───■───┼────■───────■──┤ Ry(1) ├────┼────»\n",
       "      └───────┘┌───┴───┐    │      │   │   │    │       │  └───────┘┌───┴───┐»\n",
       "q0_2: ─────────┤ Ry(1) ├────┼──────■───┼───■────┼───────┼───────────┤ Ry(1) ├»\n",
       "               └───────┘┌───┴───┐  │   │   │    │       │           └───────┘»\n",
       "q0_3: ──────────────────┤ Ry(1) ├──┼───┼───┼────┼───■───┼────────────────────»\n",
       "                        └───────┘┌─┴─┐ │ ┌─┴─┐┌─┴─┐ │ ┌─┴─┐                  »\n",
       "q0_4: ───────────────────────────┤ X ├─■─┤ X ├┤ X ├─■─┤ X ├──────────────────»\n",
       "                                 └───┘   └───┘└───┘   └───┘                  »\n",
       "«                                                                    \n",
       "«q0_0: ────■──────■───────■────■───────■──────■────────■────────■────\n",
       "«          │      │       │    │       │  ┌───┴───┐    │        │    \n",
       "«q0_1: ────┼──────┼───────┼────■───────■──┤ Ry(1) ├────┼────────┼────\n",
       "«          │      │       │    │       │  └───────┘┌───┴───┐    │    \n",
       "«q0_2: ────┼──────┼───■───┼────┼───────┼───────────┤ Ry(1) ├────┼────\n",
       "«      ┌───┴───┐  │   │   │    │       │           └───────┘┌───┴───┐\n",
       "«q0_3: ┤ Ry(1) ├──■───┼───■────┼───■───┼────────────────────┤ Ry(1) ├\n",
       "«      └───────┘┌─┴─┐ │ ┌─┴─┐┌─┴─┐ │ ┌─┴─┐                  └───────┘\n",
       "«q0_4: ─────────┤ X ├─■─┤ X ├┤ X ├─■─┤ X ├───────────────────────────\n",
       "«               └───┘   └───┘└───┘   └───┘                           "
      ]
     },
     "execution_count": 5,
     "metadata": {},
     "output_type": "execute_result"
    }
   ],
   "source": [
    "# Creates controlled anstaz for calculating |<b|psi>|^2 with a Hadamard test\n",
    "\n",
    "def control_fixed_ansatz(qubits, parameters, auxiliary, reg):\n",
    "\n",
    "    for i in range (0, len(qubits)):\n",
    "        circ.cry(parameters[0][i], qiskit.circuit.Qubit(reg, auxiliary), qiskit.circuit.Qubit(reg, qubits[i]))\n",
    "\n",
    "    circ.ccx(auxiliary, qubits[1], 4)\n",
    "    circ.cz(qubits[0], 4)\n",
    "    circ.ccx(auxiliary, qubits[1], 4)\n",
    "\n",
    "    circ.ccx(auxiliary, qubits[0], 4)\n",
    "    circ.cz(qubits[2], 4)\n",
    "    circ.ccx(auxiliary, qubits[0], 4)\n",
    "\n",
    "    for i in range (0, len(qubits)):\n",
    "        circ.cry(parameters[1][i], qiskit.circuit.Qubit(reg, auxiliary), qiskit.circuit.Qubit(reg, qubits[i]))\n",
    "\n",
    "    circ.ccx(auxiliary, qubits[2], 4)\n",
    "    circ.cz(qubits[1], 4)\n",
    "    circ.ccx(auxiliary, qubits[2], 4)\n",
    "\n",
    "    circ.ccx(auxiliary, qubits[0], 4)\n",
    "    circ.cz(qubits[2], 4)\n",
    "    circ.ccx(auxiliary, qubits[0], 4)\n",
    "\n",
    "    for i in range (0, len(qubits)):\n",
    "        circ.cry(parameters[2][i], qiskit.circuit.Qubit(reg, auxiliary), qiskit.circuit.Qubit(reg, qubits[i]))\n",
    "\n",
    "q_reg = QuantumRegister(5)\n",
    "circ = QuantumCircuit(q_reg)\n",
    "control_fixed_ansatz([1, 2, 3], [ [1, 1, 1], [1, 1, 1], [1, 1, 1] ], 0, q_reg)\n",
    "circ.draw()"
   ]
  },
  {
   "cell_type": "code",
   "execution_count": 6,
   "metadata": {},
   "outputs": [
    {
     "data": {
      "text/html": [
       "<pre style=\"word-wrap: normal;white-space: pre;background: #fff0;line-height: 1.1;font-family: &quot;Courier New&quot;,Courier,monospace\">                    \n",
       "q_0: ──■────■────■──\n",
       "     ┌─┴─┐  │    │  \n",
       "q_1: ┤ H ├──┼────┼──\n",
       "     └───┘┌─┴─┐  │  \n",
       "q_2: ─────┤ H ├──┼──\n",
       "          └───┘┌─┴─┐\n",
       "q_3: ──────────┤ H ├\n",
       "               └───┘</pre>"
      ],
      "text/plain": [
       "                    \n",
       "q_0: ──■────■────■──\n",
       "     ┌─┴─┐  │    │  \n",
       "q_1: ┤ H ├──┼────┼──\n",
       "     └───┘┌─┴─┐  │  \n",
       "q_2: ─────┤ H ├──┼──\n",
       "          └───┘┌─┴─┐\n",
       "q_3: ──────────┤ H ├\n",
       "               └───┘"
      ]
     },
     "execution_count": 6,
     "metadata": {},
     "output_type": "execute_result"
    }
   ],
   "source": [
    "def control_b(auxiliary, qubits):\n",
    "\n",
    "    for ia in qubits:\n",
    "        circ.ch(auxiliary, ia)\n",
    "\n",
    "circ = QuantumCircuit(4)\n",
    "control_b(0, [1, 2, 3])\n",
    "circ.draw()"
   ]
  },
  {
   "cell_type": "code",
   "execution_count": 7,
   "metadata": {},
   "outputs": [
    {
     "data": {
      "text/html": [
       "<pre style=\"word-wrap: normal;white-space: pre;background: #fff0;line-height: 1.1;font-family: &quot;Courier New&quot;,Courier,monospace\">      ┌───┐                                                              »\n",
       "q1_0: ┤ H ├────■────────■────────■──────■───────■────■───────■──────■────»\n",
       "      └───┘┌───┴───┐    │        │      │       │    │       │  ┌───┴───┐»\n",
       "q1_1: ─────┤ Ry(1) ├────┼────────┼──────┼───■───┼────■───────■──┤ Ry(1) ├»\n",
       "           └───────┘┌───┴───┐    │      │   │   │    │       │  └───────┘»\n",
       "q1_2: ──────────────┤ Ry(1) ├────┼──────■───┼───■────┼───────┼───────────»\n",
       "                    └───────┘┌───┴───┐  │   │   │    │       │           »\n",
       "q1_3: ───────────────────────┤ Ry(1) ├──┼───┼───┼────┼───■───┼───────────»\n",
       "                             └───────┘┌─┴─┐ │ ┌─┴─┐┌─┴─┐ │ ┌─┴─┐         »\n",
       "q1_4: ────────────────────────────────┤ X ├─■─┤ X ├┤ X ├─■─┤ X ├─────────»\n",
       "                                      └───┘   └───┘└───┘   └───┘         »\n",
       "«                                                                             »\n",
       "«q1_0: ────■────────■──────■───────■────■───────■──────■────────■────────■────»\n",
       "«          │        │      │       │    │       │  ┌───┴───┐    │        │    »\n",
       "«q1_1: ────┼────────┼──────┼───────┼────■───────■──┤ Ry(1) ├────┼────────┼────»\n",
       "«      ┌───┴───┐    │      │       │    │       │  └───────┘┌───┴───┐    │    »\n",
       "«q1_2: ┤ Ry(1) ├────┼──────┼───■───┼────┼───────┼───────────┤ Ry(1) ├────┼────»\n",
       "«      └───────┘┌───┴───┐  │   │   │    │       │           └───────┘┌───┴───┐»\n",
       "«q1_3: ─────────┤ Ry(1) ├──■───┼───■────┼───■───┼────────────────────┤ Ry(1) ├»\n",
       "«               └───────┘┌─┴─┐ │ ┌─┴─┐┌─┴─┐ │ ┌─┴─┐                  └───────┘»\n",
       "«q1_4: ──────────────────┤ X ├─■─┤ X ├┤ X ├─■─┤ X ├───────────────────────────»\n",
       "«                        └───┘   └───┘└───┘   └───┘                           »\n",
       "«                     ┌───┐\n",
       "«q1_0: ──■────■────■──┤ H ├\n",
       "«      ┌─┴─┐  │    │  └───┘\n",
       "«q1_1: ┤ H ├──┼────┼───────\n",
       "«      └───┘┌─┴─┐  │       \n",
       "«q1_2: ─────┤ H ├──┼───────\n",
       "«           └───┘┌─┴─┐     \n",
       "«q1_3: ──────────┤ H ├─────\n",
       "«                └───┘     \n",
       "«q1_4: ────────────────────\n",
       "«                          </pre>"
      ],
      "text/plain": [
       "      ┌───┐                                                              »\n",
       "q1_0: ┤ H ├────■────────■────────■──────■───────■────■───────■──────■────»\n",
       "      └───┘┌───┴───┐    │        │      │       │    │       │  ┌───┴───┐»\n",
       "q1_1: ─────┤ Ry(1) ├────┼────────┼──────┼───■───┼────■───────■──┤ Ry(1) ├»\n",
       "           └───────┘┌───┴───┐    │      │   │   │    │       │  └───────┘»\n",
       "q1_2: ──────────────┤ Ry(1) ├────┼──────■───┼───■────┼───────┼───────────»\n",
       "                    └───────┘┌───┴───┐  │   │   │    │       │           »\n",
       "q1_3: ───────────────────────┤ Ry(1) ├──┼───┼───┼────┼───■───┼───────────»\n",
       "                             └───────┘┌─┴─┐ │ ┌─┴─┐┌─┴─┐ │ ┌─┴─┐         »\n",
       "q1_4: ────────────────────────────────┤ X ├─■─┤ X ├┤ X ├─■─┤ X ├─────────»\n",
       "                                      └───┘   └───┘└───┘   └───┘         »\n",
       "«                                                                             »\n",
       "«q1_0: ────■────────■──────■───────■────■───────■──────■────────■────────■────»\n",
       "«          │        │      │       │    │       │  ┌───┴───┐    │        │    »\n",
       "«q1_1: ────┼────────┼──────┼───────┼────■───────■──┤ Ry(1) ├────┼────────┼────»\n",
       "«      ┌───┴───┐    │      │       │    │       │  └───────┘┌───┴───┐    │    »\n",
       "«q1_2: ┤ Ry(1) ├────┼──────┼───■───┼────┼───────┼───────────┤ Ry(1) ├────┼────»\n",
       "«      └───────┘┌───┴───┐  │   │   │    │       │           └───────┘┌───┴───┐»\n",
       "«q1_3: ─────────┤ Ry(1) ├──■───┼───■────┼───■───┼────────────────────┤ Ry(1) ├»\n",
       "«               └───────┘┌─┴─┐ │ ┌─┴─┐┌─┴─┐ │ ┌─┴─┐                  └───────┘»\n",
       "«q1_4: ──────────────────┤ X ├─■─┤ X ├┤ X ├─■─┤ X ├───────────────────────────»\n",
       "«                        └───┘   └───┘└───┘   └───┘                           »\n",
       "«                     ┌───┐\n",
       "«q1_0: ──■────■────■──┤ H ├\n",
       "«      ┌─┴─┐  │    │  └───┘\n",
       "«q1_1: ┤ H ├──┼────┼───────\n",
       "«      └───┘┌─┴─┐  │       \n",
       "«q1_2: ─────┤ H ├──┼───────\n",
       "«           └───┘┌─┴─┐     \n",
       "«q1_3: ──────────┤ H ├─────\n",
       "«                └───┘     \n",
       "«q1_4: ────────────────────\n",
       "«                          "
      ]
     },
     "execution_count": 7,
     "metadata": {},
     "output_type": "execute_result"
    }
   ],
   "source": [
    "# Create the controlled Hadamard test, for calculating <psi|psi>\n",
    "\n",
    "def special_had_test(gate_type, qubits, auxiliary_index, parameters, reg):\n",
    "\n",
    "    circ.h(auxiliary_index)\n",
    "\n",
    "    control_fixed_ansatz(qubits, parameters, auxiliary_index, reg)\n",
    "\n",
    "    for ty in range (0, len(gate_type)):\n",
    "        if (gate_type[ty] == 1):\n",
    "            circ.cz(auxiliary_index, qubits[ty])\n",
    "\n",
    "\n",
    "    control_b(auxiliary_index, qubits)\n",
    "    \n",
    "    circ.h(auxiliary_index)\n",
    "\n",
    "q_reg = QuantumRegister(5)\n",
    "circ = QuantumCircuit(q_reg)\n",
    "special_had_test([ [0, 0, 0], [0, 0, 1] ], [1, 2, 3], 0, [ [1, 1, 1], [1, 1, 1], [1, 1, 1] ], q_reg)\n",
    "circ.draw()"
   ]
  },
  {
   "attachments": {},
   "cell_type": "markdown",
   "metadata": {},
   "source": [
    "## Simulation"
   ]
  },
  {
   "cell_type": "code",
   "execution_count": 10,
   "metadata": {},
   "outputs": [],
   "source": [
    "coefficient_set = [0.55, 0.45]\n",
    "gate_set = [ [0, 0, 0], [0, 0, 1] ]\n",
    "\n",
    "# Implements the entire cost function on the quantum circuit\n",
    "\n",
    "def calculate_cost_function(parameters):\n",
    "    \n",
    "    global opt\n",
    "\n",
    "    overall_sum_1 = 0\n",
    "    \n",
    "    parameters = [parameters[0:3], parameters[3:6], parameters[6:9] ]\n",
    "\n",
    "    for i in range(0, len(gate_set)):\n",
    "        for j in range(0, len(gate_set)):\n",
    "\n",
    "            global circ\n",
    "\n",
    "            qctl = QuantumRegister(5)\n",
    "            qc = ClassicalRegister(5)\n",
    "            circ = QuantumCircuit(qctl, qc)\n",
    "\n",
    "            backend = Aer.get_backend('aer_simulator')\n",
    "            \n",
    "            multiply = coefficient_set[i]*coefficient_set[j]\n",
    "\n",
    "            had_test([gate_set[i], gate_set[j] ], [1, 2, 3], 0, parameters)\n",
    "\n",
    "            circ.save_statevector()\n",
    "            t_circ = transpile(circ, backend)\n",
    "            # qobj = assemble(t_circ)\n",
    "            job = backend.run(t_circ)\n",
    "\n",
    "            result = job.result()\n",
    "            outputstate = np.real(result.get_statevector(circ, decimals=100))\n",
    "            o = outputstate\n",
    "\n",
    "            m_sum = 0\n",
    "            for l in range (0, len(o)):\n",
    "                if (l%2 == 1):\n",
    "                    n = o[l]**2\n",
    "                    m_sum+=n\n",
    "\n",
    "            overall_sum_1+=multiply*(1-(2*m_sum))\n",
    "\n",
    "    overall_sum_2 = 0\n",
    "\n",
    "    for i in range(0, len(gate_set)):\n",
    "        for j in range(0, len(gate_set)):\n",
    "\n",
    "            multiply = coefficient_set[i]*coefficient_set[j]\n",
    "            mult = 1\n",
    "\n",
    "            for extra in range(0, 2):\n",
    "\n",
    "                qctl = QuantumRegister(5)\n",
    "                qc = ClassicalRegister(5)\n",
    "                circ = QuantumCircuit(qctl, qc)\n",
    "\n",
    "                backend = Aer.get_backend('aer_simulator')\n",
    "\n",
    "                if (extra == 0):\n",
    "                    special_had_test(gate_set[i], [1, 2, 3], 0, parameters, qctl)\n",
    "                if (extra == 1):\n",
    "                    special_had_test(gate_set[j], [1, 2, 3], 0, parameters, qctl)\n",
    "\n",
    "                circ.save_statevector()    \n",
    "                t_circ = transpile(circ, backend)\n",
    "                # qobj = assemble(t_circ)\n",
    "                job = backend.run(t_circ)\n",
    "\n",
    "                result = job.result()\n",
    "                outputstate = np.real(result.get_statevector(circ, decimals=100))\n",
    "                o = outputstate\n",
    "\n",
    "                m_sum = 0\n",
    "                for l in range (0, len(o)):\n",
    "                    if (l%2 == 1):\n",
    "                        n = o[l]**2\n",
    "                        m_sum+=n\n",
    "                mult = mult*(1-(2*m_sum))\n",
    "\n",
    "            overall_sum_2+=multiply*mult\n",
    "            \n",
    "    # print(1-float(overall_sum_2/overall_sum_1))\n",
    "\n",
    "    return 1-float(overall_sum_2/overall_sum_1)"
   ]
  },
  {
   "cell_type": "code",
   "execution_count": 14,
   "metadata": {},
   "outputs": [
    {
     "name": "stderr",
     "output_type": "stream",
     "text": [
      "/var/folders/07/x8mtl3_53h95v_q_0ddbc_fh0000gn/T/ipykernel_97916/2447371092.py:3: DeprecationWarning: The package qiskit.providers.ibmq is being deprecated. Please see https://ibm.biz/provider_migration_guide to get instructions on how to migrate to qiskit-ibm-provider (https://github.com/Qiskit/qiskit-ibm-provider) and qiskit-ibm-runtime (https://github.com/Qiskit/qiskit-ibm-runtime).\n",
      "  IBMQ.save_account('2bb24b1ffb16645433661cd2214aedc8d53fef6a635ac74857b0e282de4e4597754228444daece952006fb5dff87b434835547e926a5539b24f800818c08e394',overwrite=True)\n",
      "/var/folders/07/x8mtl3_53h95v_q_0ddbc_fh0000gn/T/ipykernel_97916/2447371092.py:3: DeprecationWarning: The qiskit.IBMQ entrypoint and the qiskit-ibmq-provider package (accessible from 'qiskit.providers.ibmq`) are deprecated and will be removed in a future release. Instead you should use the qiskit-ibm-provider package which is accessible from 'qiskit_ibm_provider'. You can install it with 'pip install qiskit_ibm_provider'. Just replace 'qiskit.IBMQ' with 'qiskit_ibm_provider.IBMProvider'\n",
      "  IBMQ.save_account('2bb24b1ffb16645433661cd2214aedc8d53fef6a635ac74857b0e282de4e4597754228444daece952006fb5dff87b434835547e926a5539b24f800818c08e394',overwrite=True)\n"
     ]
    }
   ],
   "source": [
    "from qiskit import IBMQ\n",
    "# load IBM account\n",
    "IBMQ.save_account('2bb24b1ffb16645433661cd2214aedc8d53fef6a635ac74857b0e282de4e4597754228444daece952006fb5dff87b434835547e926a5539b24f800818c08e394',overwrite=True)\n",
    "IBMQ.load_account()\n",
    "\n",
    "provider = IBMQ.providers()\n",
    "provider = IBMQ.get_provider(hub='ibm-q-education', group='harvard', project='qse-210')"
   ]
  },
  {
   "cell_type": "code",
   "execution_count": 15,
   "metadata": {},
   "outputs": [],
   "source": [
    "# backend=provider.get_backend(\"ibm_perth\")\n",
    "backend=provider.get_backend(\"ibmq_quito\")"
   ]
  },
  {
   "cell_type": "code",
   "execution_count": 17,
   "metadata": {},
   "outputs": [],
   "source": [
    "\n",
    "\n",
    "out = minimize(calculate_cost_function, x0=[float(random.randint(0,3000))/1000 for i in range(0, 9)], method=\"COBYLA\", options={'maxiter':200})\n",
    "print(out)\n",
    "\n",
    "out_f = [out['x'][0:3], out['x'][3:6], out['x'][6:9] ]\n",
    "\n",
    "circ = QuantumCircuit(3, 3)\n",
    "apply_fixed_ansatz([0, 1, 2], out_f)\n",
    "# circ.save_statevector()\n",
    "\n",
    "# backend = Aer.get_backend('aer_simulator')\n",
    "t_circ = transpile(circ, backend)\n",
    "# qobj = assemble(t_circ)\n",
    "job = backend.run(t_circ, shots=8192)\n",
    "\n",
    "result = job.result()\n",
    "o = result.get_statevector(circ, decimals=10)\n",
    "\n",
    "a1 = coefficient_set[1]*np.array([ [1,0,0,0,0,0,0,0], [0,1,0,0,0,0,0,0], [0,0,1,0,0,0,0,0], [0,0,0,1,0,0,0,0], [0,0,0,0,-1,0,0,0], [0,0,0,0,0,-1,0,0], [0,0,0,0,0,0,-1,0], [0,0,0,0,0,0,0,-1] ])\n",
    "a2 = coefficient_set[0]*np.array([ [1,0,0,0,0,0,0,0], [0,1,0,0,0,0,0,0], [0,0,1,0,0,0,0,0], [0,0,0,1,0,0,0,0], [0,0,0,0,1,0,0,0], [0,0,0,0,0,1,0,0], [0,0,0,0,0,0,1,0], [0,0,0,0,0,0,0,1] ])\n",
    "a3 = np.add(a1, a2)\n",
    "\n",
    "b = np.array([float(1/np.sqrt(8)),float(1/np.sqrt(8)),float(1/np.sqrt(8)),float(1/np.sqrt(8)),float(1/np.sqrt(8)),float(1/np.sqrt(8)),float(1/np.sqrt(8)),float(1/np.sqrt(8))])\n",
    "\n",
    "print((b.dot(a3.dot(o)/(np.linalg.norm(a3.dot(o)))))**2)"
   ]
  },
  {
   "cell_type": "code",
   "execution_count": 12,
   "metadata": {},
   "outputs": [
    {
     "name": "stdout",
     "output_type": "stream",
     "text": [
      "(0.9818942624058683+0j)\n"
     ]
    }
   ],
   "source": [
    "print((b.dot(a3.dot(o)/(np.linalg.norm(a3.dot(o))))))"
   ]
  },
  {
   "cell_type": "code",
   "execution_count": null,
   "metadata": {},
   "outputs": [],
   "source": []
  }
 ],
 "metadata": {
  "kernelspec": {
   "display_name": "quantum",
   "language": "python",
   "name": "python3"
  },
  "language_info": {
   "codemirror_mode": {
    "name": "ipython",
    "version": 3
   },
   "file_extension": ".py",
   "mimetype": "text/x-python",
   "name": "python",
   "nbconvert_exporter": "python",
   "pygments_lexer": "ipython3",
   "version": "3.11.3"
  },
  "orig_nbformat": 4
 },
 "nbformat": 4,
 "nbformat_minor": 2
}
