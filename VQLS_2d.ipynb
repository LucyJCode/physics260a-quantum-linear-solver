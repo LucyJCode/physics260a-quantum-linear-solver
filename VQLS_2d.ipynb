{
 "cells": [
  {
   "cell_type": "code",
   "execution_count": 2,
   "metadata": {},
   "outputs": [],
   "source": [
    "import qiskit\n",
    "from qiskit import QuantumCircuit, QuantumRegister, ClassicalRegister\n",
    "from qiskit import Aer, transpile, assemble\n",
    "import math\n",
    "import random\n",
    "import numpy as np\n",
    "from scipy.optimize import minimize"
   ]
  },
  {
   "cell_type": "code",
   "execution_count": 3,
   "metadata": {},
   "outputs": [
    {
     "data": {
      "text/html": [
       "<pre style=\"word-wrap: normal;white-space: pre;background: #fff0;line-height: 1.1;font-family: &quot;Courier New&quot;,Courier,monospace\">   ┌───────┐\n",
       "q: ┤ Ry(1) ├\n",
       "   └───────┘</pre>"
      ],
      "text/plain": [
       "   ┌───────┐\n",
       "q: ┤ Ry(1) ├\n",
       "   └───────┘"
      ]
     },
     "execution_count": 3,
     "metadata": {},
     "output_type": "execute_result"
    }
   ],
   "source": [
    "def apply_fixed_ansatz(qubits, parameters):\n",
    "\n",
    "    for iz in range (0, len(qubits)):\n",
    "        circ.ry(parameters[0][iz], qubits[iz])\n",
    "\n",
    "    # circ.cz(qubits[0], qubits[1])\n",
    "    # circ.cz(qubits[2], qubits[0])\n",
    "\n",
    "    # for iz in range (0, len(qubits)):\n",
    "    #     circ.ry(parameters[1][iz], qubits[iz])\n",
    "\n",
    "    # circ.cz(qubits[1], qubits[2])\n",
    "    # circ.cz(qubits[2], qubits[0])\n",
    "\n",
    "    # for iz in range (0, len(qubits)):\n",
    "    #     circ.ry(parameters[2][iz], qubits[iz])\n",
    "\n",
    "circ = QuantumCircuit(1)\n",
    "apply_fixed_ansatz([0], [ [1]  ])\n",
    "circ.draw()"
   ]
  },
  {
   "cell_type": "code",
   "execution_count": 4,
   "metadata": {},
   "outputs": [
    {
     "data": {
      "text/html": [
       "<pre style=\"word-wrap: normal;white-space: pre;background: #fff0;line-height: 1.1;font-family: &quot;Courier New&quot;,Courier,monospace\">       ┌───┐     ┌───┐\n",
       "q_0: ──┤ H ├───■─┤ H ├\n",
       "     ┌─┴───┴─┐ │ └───┘\n",
       "q_1: ┤ Ry(1) ├─■──────\n",
       "     └───────┘        </pre>"
      ],
      "text/plain": [
       "       ┌───┐     ┌───┐\n",
       "q_0: ──┤ H ├───■─┤ H ├\n",
       "     ┌─┴───┴─┐ │ └───┘\n",
       "q_1: ┤ Ry(1) ├─■──────\n",
       "     └───────┘        "
      ]
     },
     "execution_count": 4,
     "metadata": {},
     "output_type": "execute_result"
    }
   ],
   "source": [
    "# Creates the Hadamard test\n",
    "\n",
    "def had_test(gate_type, qubits, auxiliary_index, parameters):\n",
    "\n",
    "    circ.h(auxiliary_index)\n",
    "\n",
    "    apply_fixed_ansatz(qubits, parameters)\n",
    "\n",
    "    for ie in range (0, len(gate_type[0])):\n",
    "        if (gate_type[0][ie] == 1):\n",
    "            circ.cz(auxiliary_index, qubits[ie])\n",
    "        elif (gate_type[0][ie] == 2):\n",
    "            # print(2)\n",
    "            circ.cx(auxiliary_index, qubits[ie])\n",
    "        elif (gate_type[0][ie] == 3):\n",
    "            circ.cy(auxiliary_index, qubits[ie])\n",
    "\n",
    "    # for ie in range (0, len(gate_type[1])):\n",
    "    #     if (gate_type[1][ie] == 1):\n",
    "    #         circ.cz(auxiliary_index, qubits[ie])\n",
    "    #     elif (gate_type[0][ie] == 2):\n",
    "    #         circ.cx(auxiliary_index, qubits[ie])\n",
    "    #     elif (gate_type[0][ie] == 3):\n",
    "    #         circ.cy(auxiliary_index, qubits[ie])\n",
    "    \n",
    "    circ.h(auxiliary_index)\n",
    "    \n",
    "circ = QuantumCircuit(2)\n",
    "had_test([ [1] ], [1], 0, [ [1] ])\n",
    "circ.draw()"
   ]
  },
  {
   "cell_type": "code",
   "execution_count": 5,
   "metadata": {},
   "outputs": [
    {
     "data": {
      "text/html": [
       "<pre style=\"word-wrap: normal;white-space: pre;background: #fff0;line-height: 1.1;font-family: &quot;Courier New&quot;,Courier,monospace\">                                     \n",
       "q0_0: ────■──────■───────■──────■────\n",
       "      ┌───┴───┐  │       │  ┌───┴───┐\n",
       "q0_1: ┤ Ry(1) ├──■───■───■──┤ Ry(1) ├\n",
       "      └───────┘┌─┴─┐ │ ┌─┴─┐└───────┘\n",
       "q0_2: ─────────┤ X ├─■─┤ X ├─────────\n",
       "               └───┘   └───┘         </pre>"
      ],
      "text/plain": [
       "                                     \n",
       "q0_0: ────■──────■───────■──────■────\n",
       "      ┌───┴───┐  │       │  ┌───┴───┐\n",
       "q0_1: ┤ Ry(1) ├──■───■───■──┤ Ry(1) ├\n",
       "      └───────┘┌─┴─┐ │ ┌─┴─┐└───────┘\n",
       "q0_2: ─────────┤ X ├─■─┤ X ├─────────\n",
       "               └───┘   └───┘         "
      ]
     },
     "execution_count": 5,
     "metadata": {},
     "output_type": "execute_result"
    }
   ],
   "source": [
    "# Creates controlled anstaz for calculating |<b|psi>|^2 with a Hadamard test\n",
    "\n",
    "def control_fixed_ansatz(qubits, parameters, auxiliary, reg):\n",
    "\n",
    "    for i in range (0, len(qubits)):\n",
    "        circ.cry(parameters[0][i], qiskit.circuit.Qubit(reg, auxiliary), qiskit.circuit.Qubit(reg, qubits[i]))\n",
    "\n",
    "    # circ.ccx(auxiliary, qubits[1], 2)\n",
    "    # circ.cz(qubits[0], 0)\n",
    "    circ.ccx(auxiliary, qubits[0], 2)\n",
    "\n",
    "    # circ.ccx(auxiliary, qubits[0], 4)\n",
    "    circ.cz(qubits[0], 2)\n",
    "    # circ.ccx(auxiliary, qubits[0], 4)\n",
    "\n",
    "    circ.ccx(auxiliary, qubits[0], 2)\n",
    "\n",
    "    for i in range (0, len(qubits)):\n",
    "        circ.cry(parameters[0][i], qiskit.circuit.Qubit(reg, auxiliary), qiskit.circuit.Qubit(reg, qubits[i]))\n",
    "\n",
    "    # for i in range (0, len(qubits)):\n",
    "    #     circ.cry(parameters[1][i], qiskit.circuit.Qubit(reg, auxiliary), qiskit.circuit.Qubit(reg, qubits[i]))\n",
    "\n",
    "    # circ.ccx(auxiliary, qubits[2], 2)\n",
    "    # circ.cz(qubits[1], 2)\n",
    "    # circ.ccx(auxiliary, qubits[2], 2)\n",
    "\n",
    "    # circ.ccx(auxiliary, qubits[0], 4)\n",
    "    # circ.cz(qubits[2], 4)\n",
    "    # circ.ccx(auxiliary, qubits[0], 4)\n",
    "\n",
    "    # for i in range (0, len(qubits)):\n",
    "    #     circ.cry(parameters[2][i], qiskit.circuit.Qubit(reg, auxiliary), qiskit.circuit.Qubit(reg, qubits[i]))\n",
    "\n",
    "q_reg = QuantumRegister(3)\n",
    "circ = QuantumCircuit(q_reg)\n",
    "control_fixed_ansatz([1], [ [1] ], 0, q_reg)\n",
    "circ.draw()"
   ]
  },
  {
   "cell_type": "code",
   "execution_count": 6,
   "metadata": {},
   "outputs": [
    {
     "data": {
      "text/html": [
       "<pre style=\"word-wrap: normal;white-space: pre;background: #fff0;line-height: 1.1;font-family: &quot;Courier New&quot;,Courier,monospace\">          \n",
       "q_0: ──■──\n",
       "     ┌─┴─┐\n",
       "q_1: ┤ H ├\n",
       "     └───┘</pre>"
      ],
      "text/plain": [
       "          \n",
       "q_0: ──■──\n",
       "     ┌─┴─┐\n",
       "q_1: ┤ H ├\n",
       "     └───┘"
      ]
     },
     "execution_count": 6,
     "metadata": {},
     "output_type": "execute_result"
    }
   ],
   "source": [
    "def control_b(auxiliary, qubits):\n",
    "\n",
    "    for ia in qubits:\n",
    "        circ.ch(auxiliary, ia)\n",
    "\n",
    "circ = QuantumCircuit(2)\n",
    "control_b(0, [1])\n",
    "circ.draw()"
   ]
  },
  {
   "cell_type": "code",
   "execution_count": 7,
   "metadata": {},
   "outputs": [
    {
     "data": {
      "text/html": [
       "<pre style=\"word-wrap: normal;white-space: pre;background: #fff0;line-height: 1.1;font-family: &quot;Courier New&quot;,Courier,monospace\">      ┌───┐                                    ┌───┐\n",
       "q1_0: ┤ H ├────■──────■───────■──────■──────■──┤ H ├\n",
       "      └───┘┌───┴───┐  │       │  ┌───┴───┐┌─┴─┐└───┘\n",
       "q1_1: ─────┤ Ry(1) ├──■───■───■──┤ Ry(1) ├┤ H ├─────\n",
       "           └───────┘┌─┴─┐ │ ┌─┴─┐└───────┘└───┘     \n",
       "q1_2: ──────────────┤ X ├─■─┤ X ├───────────────────\n",
       "                    └───┘   └───┘                   </pre>"
      ],
      "text/plain": [
       "      ┌───┐                                    ┌───┐\n",
       "q1_0: ┤ H ├────■──────■───────■──────■──────■──┤ H ├\n",
       "      └───┘┌───┴───┐  │       │  ┌───┴───┐┌─┴─┐└───┘\n",
       "q1_1: ─────┤ Ry(1) ├──■───■───■──┤ Ry(1) ├┤ H ├─────\n",
       "           └───────┘┌─┴─┐ │ ┌─┴─┐└───────┘└───┘     \n",
       "q1_2: ──────────────┤ X ├─■─┤ X ├───────────────────\n",
       "                    └───┘   └───┘                   "
      ]
     },
     "execution_count": 7,
     "metadata": {},
     "output_type": "execute_result"
    }
   ],
   "source": [
    "# Create the controlled Hadamard test, for calculating <psi|psi>\n",
    "\n",
    "def special_had_test(gate_type, qubits, auxiliary_index, parameters, reg):\n",
    "\n",
    "    circ.h(auxiliary_index)\n",
    "\n",
    "    control_fixed_ansatz(qubits, parameters, auxiliary_index, reg)\n",
    "\n",
    "    for ty in range (0, len(gate_type)):\n",
    "        if (gate_type[ty] == 1):\n",
    "            circ.cz(auxiliary_index, qubits[ty])\n",
    "        # elif (gate_type[0][ty] == 2):\n",
    "        #     circ.cx(auxiliary_index, qubits[ty])\n",
    "        # elif (gate_type[0][ty] == 3):\n",
    "        #     circ.cy(auxiliary_index, qubits[ty])\n",
    "\n",
    "\n",
    "    control_b(auxiliary_index, qubits)\n",
    "    \n",
    "    circ.h(auxiliary_index)\n",
    "\n",
    "q_reg = QuantumRegister(3)\n",
    "circ = QuantumCircuit(q_reg)\n",
    "special_had_test([ [ 1] ], [1], 0, [ [1] ], q_reg)\n",
    "circ.draw()"
   ]
  },
  {
   "cell_type": "code",
   "execution_count": 8,
   "metadata": {},
   "outputs": [],
   "source": [
    "# coefficient_set = [0.55, 0.45]\n",
    "# gate_set = [ [0, 0, 0], [0, 0, 1] ]\n",
    "\n",
    "coefficient_set = [0.55, 0.45]\n",
    "gate_set = [ [0], [1] ]\n",
    "\n",
    "# Implements the entire cost function on the quantum circuit\n",
    "\n",
    "def calculate_cost_function(parameters):\n",
    "    \n",
    "    global opt\n",
    "\n",
    "    overall_sum_1 = 0\n",
    "    \n",
    "    parameters = [parameters[0]]\n",
    "\n",
    "    for i in range(0, len(gate_set)):\n",
    "        for j in range(0, len(gate_set)):\n",
    "\n",
    "            global circ\n",
    "\n",
    "            qctl = QuantumRegister(3)\n",
    "            qc = ClassicalRegister(3)\n",
    "            circ = QuantumCircuit(qctl, qc)\n",
    "\n",
    "            backend = Aer.get_backend('aer_simulator')\n",
    "            \n",
    "            multiply = coefficient_set[i]*coefficient_set[j]\n",
    "\n",
    "            had_test([1], [1], 0, parameters)\n",
    "\n",
    "            circ.save_statevector()\n",
    "            t_circ = transpile(circ, backend)\n",
    "            # qobj = assemble(t_circ)\n",
    "            job = backend.run(t_circ)\n",
    "\n",
    "            result = job.result()\n",
    "            outputstate = np.real(result.get_statevector(circ, decimals=100))\n",
    "            o = outputstate\n",
    "\n",
    "            m_sum = 0\n",
    "            for l in range (0, len(o)):\n",
    "                if (l%2 == 1):\n",
    "                    n = o[l]**2\n",
    "                    m_sum+=n\n",
    "\n",
    "            overall_sum_1+=multiply*(1-(2*m_sum))\n",
    "\n",
    "    overall_sum_2 = 0\n",
    "\n",
    "    for i in range(0, len(gate_set)):\n",
    "        for j in range(0, len(gate_set)):\n",
    "\n",
    "            multiply = coefficient_set[i]*coefficient_set[j]\n",
    "            mult = 1\n",
    "\n",
    "            for extra in range(0, 2):\n",
    "\n",
    "                qctl = QuantumRegister(3)\n",
    "                qc = ClassicalRegister(3)\n",
    "                circ = QuantumCircuit(qctl, qc)\n",
    "\n",
    "                backend = Aer.get_backend('aer_simulator')\n",
    "\n",
    "                if (extra == 0):\n",
    "                    special_had_test([gate_set[i]], [1], 0, parameters, qctl)\n",
    "                if (extra == 1):\n",
    "                    special_had_test(gate_set[j], [1], 0, parameters, qctl)\n",
    "\n",
    "                circ.save_statevector()    \n",
    "                t_circ = transpile(circ, backend)\n",
    "                # qobj = assemble(t_circ)\n",
    "                job = backend.run(t_circ)\n",
    "\n",
    "                result = job.result()\n",
    "                outputstate = np.real(result.get_statevector(circ, decimals=100))\n",
    "                o = outputstate\n",
    "\n",
    "                m_sum = 0\n",
    "                for l in range (0, len(o)):\n",
    "                    if (l%2 == 1):\n",
    "                        n = o[l]**2\n",
    "                        m_sum+=n\n",
    "                mult = mult*(1-(2*m_sum))\n",
    "\n",
    "            overall_sum_2+=multiply*mult\n",
    "            \n",
    "    # print(1-float(overall_sum_2/overall_sum_1))\n",
    "\n",
    "    return 1-float(overall_sum_2/overall_sum_1)"
   ]
  },
  {
   "cell_type": "code",
   "execution_count": 9,
   "metadata": {},
   "outputs": [
    {
     "name": "stderr",
     "output_type": "stream",
     "text": [
      "capi_return is NULL\n",
      "Call-back cb_calcfc_in__cobyla__user__routines failed.\n",
      "Traceback (most recent call last):\n",
      "  File \"/Users/lucyjiao/miniforge3/envs/quantum/lib/python3.11/site-packages/scipy/optimize/_cobyla_py.py\", line 258, in calcfc\n",
      "Fatal Python error: F2PySwapThreadLocalCallbackPtr: F2PySwapThreadLocalCallbackPtr: PyLong_AsVoidPtr failed\n",
      "Python runtime state: initialized\n",
      "    f = fun(np.copy(x), *args)\n",
      "        ^^^^^^^^^^^^^^^^^^^^^^\n",
      "  File \"/var/folders/07/x8mtl3_53h95v_q_0ddbc_fh0000gn/T/ipykernel_46937/4125044400.py\", line 30, in calculate_cost_function\n",
      "  File \"/var/folders/07/x8mtl3_53h95v_q_0ddbc_fh0000gn/T/ipykernel_46937/3666678908.py\", line 7, in had_test\n",
      "  File \"/var/folders/07/x8mtl3_53h95v_q_0ddbc_fh0000gn/T/ipykernel_46937/3647504788.py\", line 4, in apply_fixed_ansatz\n",
      "IndexError: invalid index to scalar variable.\n"
     ]
    },
    {
     "ename": "",
     "evalue": "",
     "output_type": "error",
     "traceback": [
      "\u001b[1;31mCanceled future for execute_request message before replies were done"
     ]
    },
    {
     "ename": "",
     "evalue": "",
     "output_type": "error",
     "traceback": [
      "\u001b[1;31mThe Kernel crashed while executing code in the the current cell or a previous cell. Please review the code in the cell(s) to identify a possible cause of the failure. Click <a href='https://aka.ms/vscodeJupyterKernelCrash'>here</a> for more info. View Jupyter <a href='command:jupyter.viewOutput'>log</a> for further details."
     ]
    }
   ],
   "source": [
    "\n",
    "\n",
    "out = minimize(calculate_cost_function, x0=[float(random.randint(0,3000))/10000 for i in range(0, 1)], method=\"COBYLA\", options={'maxiter':200})\n",
    "print(out)\n",
    "\n",
    "out_f = [out['x'][0:3], out['x'][3:6], out['x'][6:9] ]\n",
    "\n",
    "\n"
   ]
  },
  {
   "cell_type": "code",
   "execution_count": 27,
   "metadata": {},
   "outputs": [
    {
     "data": {
      "text/plain": [
       "[array([3.14910908, 1.89136766, 3.92717925]),\n",
       " array([1.77068616, 2.6335759 , 1.99110288]),\n",
       " array([0.54865967, 2.19839955, 0.30062022])]"
      ]
     },
     "execution_count": 27,
     "metadata": {},
     "output_type": "execute_result"
    }
   ],
   "source": []
  },
  {
   "cell_type": "code",
   "execution_count": 26,
   "metadata": {},
   "outputs": [
    {
     "name": "stdout",
     "output_type": "stream",
     "text": [
      "     ┌────────────┐ statevector \n",
      "  q: ┤ Ry(3.1491) ├──────░──────\n",
      "     └────────────┘      ░      \n",
      "c: 1/═══════════════════════════\n",
      "                                \n",
      "{'0': 8192}\n",
      "Statevector([-0.00375821+0.j,  0.99999294+0.j],\n",
      "            dims=(2,))\n",
      "(0.6800519687326041+0j)\n"
     ]
    }
   ],
   "source": [
    "circ = QuantumCircuit(1, 1)\n",
    "apply_fixed_ansatz([0], out_f)\n",
    "circ.save_statevector()\n",
    "\n",
    "backend = Aer.get_backend('aer_simulator')\n",
    "t_circ = transpile(circ, backend)\n",
    "print(circ)\n",
    "\n",
    "job = backend.run(t_circ, shots=8192)\n",
    "\n",
    "result = job.result()\n",
    "print(result.get_counts())\n",
    "o = result.get_statevector(circ, decimals=10)\n",
    "print(o)\n",
    "\n",
    "a1 = coefficient_set[1]*np.array([ [1,0], [0,-1] ])\n",
    "a2 = coefficient_set[0]*np.array([ [1,0], [0,1]])\n",
    "# a2x = coefficient_set[0]*np.array([ [0,1,0,0,0,0,0,0], [1,0,0,0,0,0,0,0], [0,0,0,1,0,0,0,0], [0,0,1,0,0,0,0,0], [0,0,0,0,0,1,0,0], [0,0,0,0,1,0,0,0], [0,0,0,0,0,0,0,1], [0,0,0,0,0,0,1,0] ])\n",
    "\n",
    "a3 = np.add(a2, a1)\n",
    "\n",
    "b = np.array([float(1/np.sqrt(2)), float(1/np.sqrt(2))])\n",
    "\n",
    "# b = np.array([float(1/np.sqrt(8)),float(1/np.sqrt(8)),float(1/np.sqrt(8)),float(1/np.sqrt(8)),float(1/np.sqrt(8)),float(1/np.sqrt(8)),float(1/np.sqrt(8)),float(1/np.sqrt(8))])\n",
    "\n",
    "print((b.dot(a3.dot(o)/(np.linalg.norm(a3.dot(o))))))\n",
    "\n"
   ]
  },
  {
   "cell_type": "code",
   "execution_count": null,
   "metadata": {},
   "outputs": [],
   "source": []
  }
 ],
 "metadata": {
  "kernelspec": {
   "display_name": "quantum",
   "language": "python",
   "name": "python3"
  },
  "language_info": {
   "codemirror_mode": {
    "name": "ipython",
    "version": 3
   },
   "file_extension": ".py",
   "mimetype": "text/x-python",
   "name": "python",
   "nbconvert_exporter": "python",
   "pygments_lexer": "ipython3",
   "version": "3.11.3"
  },
  "orig_nbformat": 4
 },
 "nbformat": 4,
 "nbformat_minor": 2
}
