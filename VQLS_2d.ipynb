{
 "cells": [
  {
   "cell_type": "code",
   "execution_count": 2,
   "metadata": {},
   "outputs": [],
   "source": [
    "import qiskit\n",
    "from qiskit import QuantumCircuit, QuantumRegister, ClassicalRegister\n",
    "from qiskit import Aer, transpile, assemble\n",
    "import math\n",
    "import random\n",
    "import numpy as np\n",
    "from scipy.optimize import minimize"
   ]
  },
  {
   "cell_type": "code",
   "execution_count": 11,
   "metadata": {},
   "outputs": [
    {
     "data": {
      "text/html": [
       "<pre style=\"word-wrap: normal;white-space: pre;background: #fff0;line-height: 1.1;font-family: &quot;Courier New&quot;,Courier,monospace\">   ┌───────┐\n",
       "q: ┤ Ry(1) ├\n",
       "   └───────┘</pre>"
      ],
      "text/plain": [
       "   ┌───────┐\n",
       "q: ┤ Ry(1) ├\n",
       "   └───────┘"
      ]
     },
     "execution_count": 11,
     "metadata": {},
     "output_type": "execute_result"
    }
   ],
   "source": [
    "def apply_fixed_ansatz(qubits, parameters):\n",
    "\n",
    "    for iz in range (0, len(qubits)):\n",
    "        circ.ry(parameters[0][iz], qubits[iz])\n",
    "\n",
    "    # circ.cz(qubits[0], qubits[1])\n",
    "    # circ.cz(qubits[2], qubits[0])\n",
    "\n",
    "    # for iz in range (0, len(qubits)):\n",
    "    #     circ.ry(parameters[1][iz], qubits[iz])\n",
    "\n",
    "    # circ.cz(qubits[1], qubits[2])\n",
    "    # circ.cz(qubits[2], qubits[0])\n",
    "\n",
    "    # for iz in range (0, len(qubits)):\n",
    "    #     circ.ry(parameters[2][iz], qubits[iz])\n",
    "\n",
    "circ = QuantumCircuit(1)\n",
    "apply_fixed_ansatz([0], [ [1]  ])\n",
    "circ.draw()"
   ]
  },
  {
   "cell_type": "code",
   "execution_count": 12,
   "metadata": {},
   "outputs": [
    {
     "data": {
      "text/html": [
       "<pre style=\"word-wrap: normal;white-space: pre;background: #fff0;line-height: 1.1;font-family: &quot;Courier New&quot;,Courier,monospace\">       ┌───┐        ┌───┐\n",
       "q_0: ──┤ H ├───■──■─┤ H ├\n",
       "     ┌─┴───┴─┐ │  │ └───┘\n",
       "q_1: ┤ Ry(1) ├─┼──■──────\n",
       "     ├───────┤ │         \n",
       "q_2: ┤ Ry(1) ├─■─────────\n",
       "     └───────┘           </pre>"
      ],
      "text/plain": [
       "       ┌───┐        ┌───┐\n",
       "q_0: ──┤ H ├───■──■─┤ H ├\n",
       "     ┌─┴───┴─┐ │  │ └───┘\n",
       "q_1: ┤ Ry(1) ├─┼──■──────\n",
       "     ├───────┤ │         \n",
       "q_2: ┤ Ry(1) ├─■─────────\n",
       "     └───────┘           "
      ]
     },
     "execution_count": 12,
     "metadata": {},
     "output_type": "execute_result"
    }
   ],
   "source": [
    "# Creates the Hadamard test\n",
    "\n",
    "def had_test(gate_type, qubits, auxiliary_index, parameters):\n",
    "\n",
    "    circ.h(auxiliary_index)\n",
    "\n",
    "    apply_fixed_ansatz(qubits, parameters)\n",
    "    for first in range(0, len(gate_type)):\n",
    "        for ie in range (0, len(gate_type[0])):\n",
    "            if (gate_type[first][ie] == 1):\n",
    "                circ.cz(auxiliary_index, qubits[ie])\n",
    "            elif (gate_type[first][ie] == 2):\n",
    "                # print(2)\n",
    "                circ.cx(auxiliary_index, qubits[ie])\n",
    "            elif (gate_type[first][ie] == 3):\n",
    "                circ.cy(auxiliary_index, qubits[ie])\n",
    "\n",
    "    # for ie in range (0, len(gate_type[1])):\n",
    "    #     if (gate_type[1][ie] == 1):\n",
    "    #         circ.cz(auxiliary_index, qubits[ie])\n",
    "    #     elif (gate_type[0][ie] == 2):\n",
    "    #         circ.cx(auxiliary_index, qubits[ie])\n",
    "    #     elif (gate_type[0][ie] == 3):\n",
    "    #         circ.cy(auxiliary_index, qubits[ie])\n",
    "    \n",
    "    circ.h(auxiliary_index)\n",
    "    \n",
    "circ = QuantumCircuit(2)\n",
    "had_test([ [1] ], [1], 0, [ [1] ])\n",
    "circ.draw()\n",
    "\n",
    "circ = QuantumCircuit(3)\n",
    "had_test([ [0,1], [1,0] ], [1, 2], 0, [ [1, 1],])\n",
    "circ.draw()"
   ]
  },
  {
   "cell_type": "code",
   "execution_count": 14,
   "metadata": {},
   "outputs": [
    {
     "data": {
      "text/html": [
       "<pre style=\"word-wrap: normal;white-space: pre;background: #fff0;line-height: 1.1;font-family: &quot;Courier New&quot;,Courier,monospace\">                                       \n",
       "q137_0: ────■──────■───────■──────■────\n",
       "        ┌───┴───┐  │       │  ┌───┴───┐\n",
       "q137_1: ┤ Ry(1) ├──■───■───■──┤ Ry(1) ├\n",
       "        └───────┘┌─┴─┐ │ ┌─┴─┐└───────┘\n",
       "q137_2: ─────────┤ X ├─■─┤ X ├─────────\n",
       "                 └───┘   └───┘         </pre>"
      ],
      "text/plain": [
       "                                       \n",
       "q137_0: ────■──────■───────■──────■────\n",
       "        ┌───┴───┐  │       │  ┌───┴───┐\n",
       "q137_1: ┤ Ry(1) ├──■───■───■──┤ Ry(1) ├\n",
       "        └───────┘┌─┴─┐ │ ┌─┴─┐└───────┘\n",
       "q137_2: ─────────┤ X ├─■─┤ X ├─────────\n",
       "                 └───┘   └───┘         "
      ]
     },
     "execution_count": 14,
     "metadata": {},
     "output_type": "execute_result"
    }
   ],
   "source": [
    "# Creates controlled anstaz for calculating |<b|psi>|^2 with a Hadamard test\n",
    "\n",
    "def control_fixed_ansatz(qubits, parameters, auxiliary, reg):\n",
    "\n",
    "    for i in range (0, len(qubits)):\n",
    "        circ.cry(parameters[0][i], qiskit.circuit.Qubit(reg, auxiliary), qiskit.circuit.Qubit(reg, qubits[i]))\n",
    "\n",
    "    # circ.ccx(auxiliary, qubits[1], 2)\n",
    "    # circ.cz(qubits[0], 0)\n",
    "    circ.ccx(auxiliary, qubits[0], 2)\n",
    "\n",
    "    # circ.ccx(auxiliary, qubits[0], 4)\n",
    "    circ.cz(qubits[0], 2)\n",
    "    # circ.ccx(auxiliary, qubits[0], 4)\n",
    "\n",
    "    circ.ccx(auxiliary, qubits[0], 2)\n",
    "\n",
    "    for i in range (0, len(qubits)):\n",
    "        circ.cry(parameters[0][i], qiskit.circuit.Qubit(reg, auxiliary), qiskit.circuit.Qubit(reg, qubits[i]))\n",
    "\n",
    "    # for i in range (0, len(qubits)):\n",
    "    #     circ.cry(parameters[1][i], qiskit.circuit.Qubit(reg, auxiliary), qiskit.circuit.Qubit(reg, qubits[i]))\n",
    "\n",
    "    # circ.ccx(auxiliary, qubits[2], 2)\n",
    "    # circ.cz(qubits[1], 2)\n",
    "    # circ.ccx(auxiliary, qubits[2], 2)\n",
    "\n",
    "    # circ.ccx(auxiliary, qubits[0], 4)\n",
    "    # circ.cz(qubits[2], 4)\n",
    "    # circ.ccx(auxiliary, qubits[0], 4)\n",
    "\n",
    "    # for i in range (0, len(qubits)):\n",
    "    #     circ.cry(parameters[2][i], qiskit.circuit.Qubit(reg, auxiliary), qiskit.circuit.Qubit(reg, qubits[i]))\n",
    "\n",
    "q_reg = QuantumRegister(3)\n",
    "circ = QuantumCircuit(q_reg)\n",
    "control_fixed_ansatz([1], [ [1] ], 0, q_reg)\n",
    "circ.draw()"
   ]
  },
  {
   "cell_type": "code",
   "execution_count": 15,
   "metadata": {},
   "outputs": [
    {
     "data": {
      "text/html": [
       "<pre style=\"word-wrap: normal;white-space: pre;background: #fff0;line-height: 1.1;font-family: &quot;Courier New&quot;,Courier,monospace\">        \n",
       "q_0: ─■─\n",
       "      │ \n",
       "q_1: ─■─\n",
       "        </pre>"
      ],
      "text/plain": [
       "        \n",
       "q_0: ─■─\n",
       "      │ \n",
       "q_1: ─■─\n",
       "        "
      ]
     },
     "execution_count": 15,
     "metadata": {},
     "output_type": "execute_result"
    }
   ],
   "source": [
    "def control_b(auxiliary, qubits):\n",
    "\n",
    "    for ia in qubits:\n",
    "        circ.cz(auxiliary, ia)\n",
    "\n",
    "circ = QuantumCircuit(2)\n",
    "control_b(0, [1])\n",
    "circ.draw()"
   ]
  },
  {
   "cell_type": "code",
   "execution_count": 16,
   "metadata": {},
   "outputs": [
    {
     "data": {
      "text/html": [
       "<pre style=\"word-wrap: normal;white-space: pre;background: #fff0;line-height: 1.1;font-family: &quot;Courier New&quot;,Courier,monospace\">        ┌───┐                                  ┌───┐\n",
       "q138_0: ┤ H ├────■──────■───────■──────■─────■─┤ H ├\n",
       "        └───┘┌───┴───┐  │       │  ┌───┴───┐ │ └───┘\n",
       "q138_1: ─────┤ Ry(1) ├──■───■───■──┤ Ry(1) ├─■──────\n",
       "             └───────┘┌─┴─┐ │ ┌─┴─┐└───────┘        \n",
       "q138_2: ──────────────┤ X ├─■─┤ X ├─────────────────\n",
       "                      └───┘   └───┘                 </pre>"
      ],
      "text/plain": [
       "        ┌───┐                                  ┌───┐\n",
       "q138_0: ┤ H ├────■──────■───────■──────■─────■─┤ H ├\n",
       "        └───┘┌───┴───┐  │       │  ┌───┴───┐ │ └───┘\n",
       "q138_1: ─────┤ Ry(1) ├──■───■───■──┤ Ry(1) ├─■──────\n",
       "             └───────┘┌─┴─┐ │ ┌─┴─┐└───────┘        \n",
       "q138_2: ──────────────┤ X ├─■─┤ X ├─────────────────\n",
       "                      └───┘   └───┘                 "
      ]
     },
     "execution_count": 16,
     "metadata": {},
     "output_type": "execute_result"
    }
   ],
   "source": [
    "# Create the controlled Hadamard test, for calculating <psi|psi>\n",
    "\n",
    "def special_had_test(gate_type, qubits, auxiliary_index, parameters, reg):\n",
    "\n",
    "    circ.h(auxiliary_index)\n",
    "\n",
    "    control_fixed_ansatz(qubits, parameters, auxiliary_index, reg)\n",
    "\n",
    "    for ty in range (0, len(gate_type)):\n",
    "        if (gate_type[ty] == 1):\n",
    "            circ.cz(auxiliary_index, qubits[ty])\n",
    "        # elif (gate_type[0][ty] == 2):\n",
    "        #     circ.cx(auxiliary_index, qubits[ty])\n",
    "        # elif (gate_type[0][ty] == 3):\n",
    "        #     circ.cy(auxiliary_index, qubits[ty])\n",
    "\n",
    "\n",
    "    control_b(auxiliary_index, qubits)\n",
    "    \n",
    "    circ.h(auxiliary_index)\n",
    "\n",
    "q_reg = QuantumRegister(3)\n",
    "circ = QuantumCircuit(q_reg)\n",
    "special_had_test([ [ 1] ], [1], 0, [ [1] ], q_reg)\n",
    "circ.draw()"
   ]
  },
  {
   "cell_type": "code",
   "execution_count": 17,
   "metadata": {},
   "outputs": [],
   "source": [
    "# coefficient_set = [0.55, 0.45]\n",
    "# gate_set = [ [0, 0, 0], [0, 0, 1] ]\n",
    "\n",
    "coefficient_set = [0.55, 0.45]\n",
    "gate_set = [ [0], [1] ]\n",
    "\n",
    "# Implements the entire cost function on the quantum circuit\n",
    "\n",
    "def calculate_cost_function(parameters):\n",
    "    \n",
    "    global opt\n",
    "\n",
    "    overall_sum_1 = 0\n",
    "    \n",
    "    parameters = [parameters[0:1]]\n",
    "\n",
    "    print(parameters)\n",
    "\n",
    "    for i in range(0, len(gate_set)):\n",
    "        for j in range(0, len(gate_set)):\n",
    "\n",
    "            global circ\n",
    "\n",
    "            qctl = QuantumRegister(3)\n",
    "            qc = ClassicalRegister(3)\n",
    "            circ = QuantumCircuit(qctl, qc)\n",
    "\n",
    "            backend = Aer.get_backend('aer_simulator')\n",
    "            \n",
    "            multiply = coefficient_set[i]*coefficient_set[j]\n",
    "\n",
    "            had_test([gate_set[i], gate_set[j]], [1], 0, parameters)\n",
    "\n",
    "            circ.save_statevector()\n",
    "            t_circ = transpile(circ, backend)\n",
    "            # qobj = assemble(t_circ)\n",
    "            job = backend.run(t_circ)\n",
    "\n",
    "            result = job.result()\n",
    "            outputstate = np.real(result.get_statevector(circ, decimals=100))\n",
    "            o = outputstate\n",
    "\n",
    "            m_sum = 0\n",
    "            for l in range (0, len(o)):\n",
    "                if (l%2 == 1):\n",
    "                    n = o[l]**2\n",
    "                    m_sum+=n\n",
    "\n",
    "            overall_sum_1+=multiply*(1-(2*m_sum))\n",
    "\n",
    "    overall_sum_2 = 0\n",
    "\n",
    "    for i in range(0, len(gate_set)):\n",
    "        for j in range(0, len(gate_set)):\n",
    "\n",
    "            multiply = coefficient_set[i]*coefficient_set[j]\n",
    "            mult = 1\n",
    "\n",
    "            for extra in range(0, 2):\n",
    "\n",
    "                qctl = QuantumRegister(3)\n",
    "                qc = ClassicalRegister(3)\n",
    "                circ = QuantumCircuit(qctl, qc)\n",
    "\n",
    "                backend = Aer.get_backend('aer_simulator')\n",
    "\n",
    "                if (extra == 0):\n",
    "                    special_had_test([gate_set[i]], [1], 0, parameters, qctl)\n",
    "                if (extra == 1):\n",
    "                    special_had_test(gate_set[j], [1], 0, parameters, qctl)\n",
    "\n",
    "                circ.save_statevector()    \n",
    "                t_circ = transpile(circ, backend)\n",
    "                # qobj = assemble(t_circ)\n",
    "                job = backend.run(t_circ)\n",
    "\n",
    "                result = job.result()\n",
    "                outputstate = np.real(result.get_statevector(circ, decimals=100))\n",
    "                o = outputstate\n",
    "\n",
    "                m_sum = 0\n",
    "                for l in range (0, len(o)):\n",
    "                    if (l%2 == 1):\n",
    "                        n = o[l]**2\n",
    "                        m_sum+=n\n",
    "                mult = mult*(1-(2*m_sum))\n",
    "\n",
    "            overall_sum_2+=multiply*mult\n",
    "\n",
    "    print(overall_sum_1, overall_sum_2)\n",
    "            \n",
    "    # print(1-float(overall_sum_2/overall_sum_1))\n",
    "\n",
    "    return 1-float(overall_sum_2/overall_sum_1)"
   ]
  },
  {
   "cell_type": "code",
   "execution_count": 18,
   "metadata": {},
   "outputs": [
    {
     "name": "stdout",
     "output_type": "stream",
     "text": [
      "[array([0.1635])]\n",
      "0.99339849389485 1.0\n",
      "[array([1.1635])]\n",
      "0.701083498166761 1.0\n",
      "[array([2.1635])]\n",
      "0.22849023850953404 1.0\n",
      "[array([3.1635])]\n",
      "0.010118778376542903 1.0\n",
      "[array([4.1635])]\n",
      "0.2467388311424747 1.0\n",
      "[array([3.6635])]\n",
      "0.0758994098181131 1.0\n",
      "[array([2.9135])]\n",
      "0.02282076939451544 1.0\n",
      "[array([3.2885])]\n",
      "0.015331888031947127 1.0\n",
      "[array([3.101])]\n",
      "0.010407765476181496 1.0\n",
      "[array([3.19475])]\n",
      "0.010699196943783296 1.0\n",
      "[array([3.147875])]\n",
      "0.010009768267285668 1.0\n",
      "[array([3.13225])]\n",
      "0.010021602923949102 1.0\n",
      "[array([3.1556875])]\n",
      "0.010049168698078315 1.0\n",
      "[array([3.14396875])]\n",
      "0.010001397343294971 1.0\n",
      "[array([3.1400625])]\n",
      "0.010000579488964045 1.0\n",
      "[array([3.13810937])]\n",
      "0.010003002971322783 1.0\n",
      "[array([3.14103906])]\n",
      "0.010000075849614376 1.0\n",
      "[array([3.14201562])]\n",
      "0.010000044278940856 1.0\n",
      "[array([3.14250391])]\n",
      "0.010000205519384797 1.0\n",
      "[array([3.14177148])]\n",
      "0.01000000791516148 1.0\n",
      "[array([3.14152734])]\n",
      "0.010000001055680718 1.0\n",
      "[array([3.1412832])]\n",
      "0.01000002370049835 1.0\n",
      "[array([3.14142734])]\n",
      "0.010000006763516978 1.0\n",
      "[array([3.14162734])]\n",
      "0.010000000297843259 1.0\n",
      "[array([3.14172734])]\n",
      "0.010000004490006709 1.0\n",
      " message: Optimization terminated successfully.\n",
      " success: True\n",
      "  status: 1\n",
      "     fun: -98.99995509995307\n",
      "       x: [ 3.142e+00]\n",
      "    nfev: 25\n",
      "   maxcv: 0.0\n"
     ]
    }
   ],
   "source": [
    "\n",
    "out = minimize(calculate_cost_function, x0=[float(random.randint(0,3000))/10000 for i in range(0, 1)], method=\"COBYLA\", options={'maxiter':200})\n",
    "\n",
    "# out = minimize(calculate_cost_function, x0=[float(random.randint(0,3000))/10000 for i in range(0, 1)], method=\"COBYLA\", options={'maxiter':200})\n",
    "\n",
    "print(out)\n",
    "\n",
    "out_f = [out['x'][0:1]]\n",
    "\n",
    "\n"
   ]
  },
  {
   "cell_type": "code",
   "execution_count": 10,
   "metadata": {},
   "outputs": [
    {
     "data": {
      "text/plain": [
       "[array([3.14165196, 0.1672352 ]), array([0.14809874, 0.02109167])]"
      ]
     },
     "execution_count": 10,
     "metadata": {},
     "output_type": "execute_result"
    }
   ],
   "source": [
    "out_f"
   ]
  },
  {
   "cell_type": "code",
   "execution_count": 12,
   "metadata": {},
   "outputs": [
    {
     "name": "stdout",
     "output_type": "stream",
     "text": [
      "     ┌────────────┐ statevector \n",
      "  q: ┤ Ry(3.1417) ├──────░──────\n",
      "     └────────────┘      ░      \n",
      "c: 1/═══════════════════════════\n",
      "                                \n",
      "{'0': 8192}\n",
      "Statevector([-2.96537e-05+0.j,  1.00000e+00+0.j],\n",
      "            dims=(2,))\n",
      "(0.7068970667826803+0j)\n"
     ]
    }
   ],
   "source": [
    "circ = QuantumCircuit(1, 1)\n",
    "apply_fixed_ansatz([0], out_f)\n",
    "circ.save_statevector()\n",
    "\n",
    "backend = Aer.get_backend('aer_simulator')\n",
    "t_circ = transpile(circ, backend)\n",
    "print(circ)\n",
    "\n",
    "job = backend.run(t_circ, shots=8192)\n",
    "\n",
    "result = job.result()\n",
    "print(result.get_counts())\n",
    "o = result.get_statevector(circ, decimals=10)\n",
    "print(o)\n",
    "\n",
    "a1 = coefficient_set[1]*np.array([ [1,0], [0,-1] ])\n",
    "a2 = coefficient_set[0]*np.array([ [1,0], [0,1]])\n",
    "# a2x = coefficient_set[0]*np.array([ [0,1,0,0,0,0,0,0], [1,0,0,0,0,0,0,0], [0,0,0,1,0,0,0,0], [0,0,1,0,0,0,0,0], [0,0,0,0,0,1,0,0], [0,0,0,0,1,0,0,0], [0,0,0,0,0,0,0,1], [0,0,0,0,0,0,1,0] ])\n",
    "\n",
    "a3 = np.add(a2, a1)\n",
    "\n",
    "b = np.array([float(1/np.sqrt(2)), float(1/np.sqrt(2))])\n",
    "\n",
    "# b = np.array([float(1/np.sqrt(8)),float(1/np.sqrt(8)),float(1/np.sqrt(8)),float(1/np.sqrt(8)),float(1/np.sqrt(8)),float(1/np.sqrt(8)),float(1/np.sqrt(8)),float(1/np.sqrt(8))])\n",
    "\n",
    "print((b.dot(a3.dot(o)/(np.linalg.norm(a3.dot(o))))))\n",
    "\n"
   ]
  },
  {
   "cell_type": "code",
   "execution_count": null,
   "metadata": {},
   "outputs": [],
   "source": []
  }
 ],
 "metadata": {
  "kernelspec": {
   "display_name": "quantum",
   "language": "python",
   "name": "python3"
  },
  "language_info": {
   "codemirror_mode": {
    "name": "ipython",
    "version": 3
   },
   "file_extension": ".py",
   "mimetype": "text/x-python",
   "name": "python",
   "nbconvert_exporter": "python",
   "pygments_lexer": "ipython3",
   "version": "3.11.3"
  },
  "orig_nbformat": 4
 },
 "nbformat": 4,
 "nbformat_minor": 2
}
