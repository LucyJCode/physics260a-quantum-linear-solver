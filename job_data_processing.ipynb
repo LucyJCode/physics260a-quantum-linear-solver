{
 "cells": [
  {
   "cell_type": "code",
   "execution_count": 1,
   "metadata": {},
   "outputs": [],
   "source": [
    "import numpy as np\n",
    "import csv\n"
   ]
  },
  {
   "cell_type": "code",
   "execution_count": 6,
   "metadata": {},
   "outputs": [],
   "source": [
    "filename=\"Perth_8192_2304_pi2.csv\"\n",
    "\n",
    "data_dict = {}\n",
    "\n",
    "with open(filename,'r') as data:\n",
    "   for line in csv.reader(data):\n",
    "        data_dict[line[0]] = line[1]\n",
    "\n",
    "del data_dict['Measurement outcome']"
   ]
  },
  {
   "cell_type": "code",
   "execution_count": 11,
   "metadata": {},
   "outputs": [],
   "source": [
    "def extract_counts(dict):\n",
    "    total_counts = 0\n",
    "    relevant_count0 = 0\n",
    "    relevant_count1 = 0\n",
    "    for key in dict:\n",
    "        if key[0] == '1':\n",
    "            if key[-1] == '1':\n",
    "                relevant_count1 += int(dict[key])\n",
    "            if key[-1] == \"0\":\n",
    "                relevant_count0 += int(dict[key])\n",
    "        total_counts += int(dict[key])\n",
    "    return (relevant_count0/total_counts, relevant_count1/total_counts)\n",
    "\n",
    "def extract_solution(probs):\n",
    "    return (np.sqrt(probs[0]), np.sqrt(probs[1]))\n",
    "\n",
    "def calculate_normalized_fidelity(v1, v2):\n",
    "    return np.dot(np.array(v1)/np.linalg.norm(v1), np.array(v2)/np.linalg.norm(v2))"
   ]
  },
  {
   "cell_type": "code",
   "execution_count": 12,
   "metadata": {},
   "outputs": [
    {
     "name": "stdout",
     "output_type": "stream",
     "text": [
      "(0.31689453125, 0.34619140625) (0.5629338604578694, 0.5883803244925854) 0.9997558379860361\n",
      "{'0000': '529', '0001': '603', '0010': '214', '0011': '328', '0100': '174', '0101': '214', '0110': '344', '0111': '354', '1000': '157', '1001': '182', '1010': '103', '1011': '125', '1100': '2181', '1101': '2363', '1110': '155', '1111': '166'}\n"
     ]
    }
   ],
   "source": [
    "p2 = extract_counts(data_dict)\n",
    "sol2 = extract_solution(p2)\n",
    "\n",
    "classical_sol = (0.354, 0.354)\n",
    "\n",
    "f2 = calculate_normalized_fidelity(classical_sol, sol2)\n",
    "\n",
    "print(p2, sol2, f2)\n",
    "print(data_dict)"
   ]
  },
  {
   "cell_type": "code",
   "execution_count": null,
   "metadata": {},
   "outputs": [],
   "source": []
  }
 ],
 "metadata": {
  "kernelspec": {
   "display_name": "quantum",
   "language": "python",
   "name": "python3"
  },
  "language_info": {
   "codemirror_mode": {
    "name": "ipython",
    "version": 3
   },
   "file_extension": ".py",
   "mimetype": "text/x-python",
   "name": "python",
   "nbconvert_exporter": "python",
   "pygments_lexer": "ipython3",
   "version": "3.11.3"
  },
  "orig_nbformat": 4
 },
 "nbformat": 4,
 "nbformat_minor": 2
}
