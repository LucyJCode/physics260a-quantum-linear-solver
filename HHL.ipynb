{
 "cells": [
  {
   "attachments": {},
   "cell_type": "markdown",
   "metadata": {},
   "source": [
    "# HHL implementation in qiskit\n",
    "### Victoria Zhang and Lucy Jiao"
   ]
  },
  {
   "attachments": {},
   "cell_type": "markdown",
   "metadata": {},
   "source": [
    "## HHL on simulators"
   ]
  },
  {
   "cell_type": "code",
   "execution_count": 52,
   "metadata": {},
   "outputs": [
    {
     "name": "stdout",
     "output_type": "stream",
     "text": [
      "Depth: 26\n",
      "CNOTS: 10\n"
     ]
    },
    {
     "data": {
      "text/html": [
       "<pre style=\"word-wrap: normal;white-space: pre;background: #fff0;line-height: 1.1;font-family: &quot;Courier New&quot;,Courier,monospace\">        ┌─────────┐┌─────────────────┐┌────────┐┌───┐┌─────────┐┌───┐┌──────────┐┌─────────┐┌────────┐┌───┐┌───────┐┌───┐┌────────┐┌─────────┐                                                                                                               ░ ┌─┐         \n",
       " q74_0: ┤ Ry(π/2) ├┤ U(0.5,-π/2,π/2) ├┤ P(π/2) ├┤ X ├┤ Ry(0.5) ├┤ X ├┤ Ry(-0.5) ├┤ P(3π/2) ├┤ P(π/2) ├┤ X ├┤ Ry(1) ├┤ X ├┤ Ry(-1) ├┤ P(3π/2) ├───────────────────────────────────────────────────────────────────────────────────────────────────────────────░─┤M├─────────\n",
       "        └──┬───┬──┘└────┬────────┬───┘└────────┘└─┬─┘└─────────┘└─┬─┘└──────────┘└─────────┘└────────┘└─┬─┘└───────┘└─┬─┘└────────┘└─────────┘                      ┌──────────┐     ┌───┐                                                                   ░ └╥┘┌─┐      \n",
       " q74_1: ───┤ H ├────────┤ P(1.5) ├────────────────■───────────────■─────────────────────────────────────┼─────────────┼──────────────────────────■───────────────■──┤ Rz(-π/4) ├─────┤ H ├────────■────────────────────────────────────────■─────────────────░──╫─┤M├──────\n",
       "           ├───┤        └┬──────┬┘                                                                      │             │    ┌───┐   ┌──────────┐┌─┴─┐┌─────────┐┌─┴─┐└──────────┘     └───┘        │                                        │                 ░  ║ └╥┘┌─┐   \n",
       " q74_2: ───┤ H ├─────────┤ P(3) ├───────────────────────────────────────────────────────────────────────■─────────────■────┤ H ├───┤ Rz(-π/4) ├┤ X ├┤ Rz(π/4) ├┤ X ├─────■────────────────────────┼────────────────────■───────────────────┼─────────────────░──╫──╫─┤M├───\n",
       "           └───┘         └──────┘                                                                                          └───┘   └──────────┘└───┘└─────────┘└───┘   ┌─┴─┐    ┌──────────────┐┌─┴─┐┌──────────────┐┌─┴─┐┌─────────────┐┌─┴─┐┌────────────┐ ░  ║  ║ └╥┘┌─┐\n",
       " q74_3: ───────────────────────────────────────────────────────────────────────────────────────────────────────────────────────────────────────────────────────────────┤ X ├────┤ Ry(-0.69352) ├┤ X ├┤ Ry(-0.87728) ├┤ X ├┤ Ry(0.35368) ├┤ X ├┤ Ry(1.2171) ├─░──╫──╫──╫─┤M├\n",
       "                                                                                                                                                                       └───┘    └──────────────┘└───┘└──────────────┘└───┘└─────────────┘└───┘└────────────┘ ░  ║  ║  ║ └╥┘\n",
       "meas: 4/════════════════════════════════════════════════════════════════════════════════════════════════════════════════════════════════════════════════════════════════════════════════════════════════════════════════════════════════════════════════════════╩══╩══╩══╩═\n",
       "                                                                                                                                                                                                                                                                0  1  2  3 </pre>"
      ],
      "text/plain": [
       "        ┌─────────┐┌─────────────────┐┌────────┐┌───┐┌─────────┐┌───┐┌──────────┐┌─────────┐┌────────┐┌───┐┌───────┐┌───┐┌────────┐┌─────────┐                                                                                                               ░ ┌─┐         \n",
       " q74_0: ┤ Ry(π/2) ├┤ U(0.5,-π/2,π/2) ├┤ P(π/2) ├┤ X ├┤ Ry(0.5) ├┤ X ├┤ Ry(-0.5) ├┤ P(3π/2) ├┤ P(π/2) ├┤ X ├┤ Ry(1) ├┤ X ├┤ Ry(-1) ├┤ P(3π/2) ├───────────────────────────────────────────────────────────────────────────────────────────────────────────────░─┤M├─────────\n",
       "        └──┬───┬──┘└────┬────────┬───┘└────────┘└─┬─┘└─────────┘└─┬─┘└──────────┘└─────────┘└────────┘└─┬─┘└───────┘└─┬─┘└────────┘└─────────┘                      ┌──────────┐     ┌───┐                                                                   ░ └╥┘┌─┐      \n",
       " q74_1: ───┤ H ├────────┤ P(1.5) ├────────────────■───────────────■─────────────────────────────────────┼─────────────┼──────────────────────────■───────────────■──┤ Rz(-π/4) ├─────┤ H ├────────■────────────────────────────────────────■─────────────────░──╫─┤M├──────\n",
       "           ├───┤        └┬──────┬┘                                                                      │             │    ┌───┐   ┌──────────┐┌─┴─┐┌─────────┐┌─┴─┐└──────────┘     └───┘        │                                        │                 ░  ║ └╥┘┌─┐   \n",
       " q74_2: ───┤ H ├─────────┤ P(3) ├───────────────────────────────────────────────────────────────────────■─────────────■────┤ H ├───┤ Rz(-π/4) ├┤ X ├┤ Rz(π/4) ├┤ X ├─────■────────────────────────┼────────────────────■───────────────────┼─────────────────░──╫──╫─┤M├───\n",
       "           └───┘         └──────┘                                                                                          └───┘   └──────────┘└───┘└─────────┘└───┘   ┌─┴─┐    ┌──────────────┐┌─┴─┐┌──────────────┐┌─┴─┐┌─────────────┐┌─┴─┐┌────────────┐ ░  ║  ║ └╥┘┌─┐\n",
       " q74_3: ───────────────────────────────────────────────────────────────────────────────────────────────────────────────────────────────────────────────────────────────┤ X ├────┤ Ry(-0.69352) ├┤ X ├┤ Ry(-0.87728) ├┤ X ├┤ Ry(0.35368) ├┤ X ├┤ Ry(1.2171) ├─░──╫──╫──╫─┤M├\n",
       "                                                                                                                                                                       └───┘    └──────────────┘└───┘└──────────────┘└───┘└─────────────┘└───┘└────────────┘ ░  ║  ║  ║ └╥┘\n",
       "meas: 4/════════════════════════════════════════════════════════════════════════════════════════════════════════════════════════════════════════════════════════════════════════════════════════════════════════════════════════════════════════════════════════╩══╩══╩══╩═\n",
       "                                                                                                                                                                                                                                                                0  1  2  3 "
      ]
     },
     "execution_count": 52,
     "metadata": {},
     "output_type": "execute_result"
    }
   ],
   "source": [
    "from qiskit import QuantumRegister, QuantumCircuit\n",
    "import numpy as np\n",
    "from qiskit.providers.aer import QasmSimulator\n",
    "from qiskit.visualization import plot_histogram\n",
    "\n",
    "t = 1  # This is not optimal; As an exercise, set this to the\n",
    "       # value that will get the best results. See section 8 for solution.\n",
    "\n",
    "NUM_QUBITS = 4  # Total number of qubits\n",
    "nb = 1  # Number of qubits representing the solution\n",
    "nl = 2  # Number of qubits representing the eigenvalues\n",
    "\n",
    "theta = np.pi/4  # Angle defining |b>\n",
    "\n",
    "a = 1.5  # Matrix diagonal\n",
    "b = 0.5  # Matrix off-diagonal\n",
    "\n",
    "# Initialize the quantum and classical registers\n",
    "qr = QuantumRegister(NUM_QUBITS)\n",
    "\n",
    "# Create a Quantum Circuit\n",
    "qc = QuantumCircuit(qr)\n",
    "\n",
    "qrb = qr[0:nb]\n",
    "qrl = qr[nb:nb+nl]\n",
    "qra = qr[nb+nl:nb+nl+1]\n",
    "\n",
    "# State preparation.\n",
    "qc.ry(2*theta, qrb[0])\n",
    "\n",
    "# QPE with e^{iAt}\n",
    "for qu in qrl:\n",
    "    qc.h(qu)\n",
    "\n",
    "qc.p(a*t, qrl[0])\n",
    "qc.p(a*t*2, qrl[1])\n",
    "\n",
    "qc.u(b*t, -np.pi/2, np.pi/2, qrb[0])\n",
    "\n",
    "\n",
    "# Controlled e^{iAt} on \\lambda_{1}:\n",
    "params=b*t\n",
    "\n",
    "qc.p(np.pi/2,qrb[0])\n",
    "qc.cx(qrl[0],qrb[0])\n",
    "qc.ry(params,qrb[0])\n",
    "qc.cx(qrl[0],qrb[0])\n",
    "qc.ry(-params,qrb[0])\n",
    "qc.p(3*np.pi/2,qrb[0])\n",
    "\n",
    "# Controlled e^{2iAt} on \\lambda_{2}:\n",
    "params = b*t*2\n",
    "\n",
    "qc.p(np.pi/2,qrb[0])\n",
    "qc.cx(qrl[1],qrb[0])\n",
    "qc.ry(params,qrb[0])\n",
    "qc.cx(qrl[1],qrb[0])\n",
    "qc.ry(-params,qrb[0])\n",
    "qc.p(3*np.pi/2,qrb[0])\n",
    "\n",
    "# Inverse QFT\n",
    "qc.h(qrl[1])\n",
    "qc.rz(-np.pi/4,qrl[1])\n",
    "qc.cx(qrl[0],qrl[1])\n",
    "qc.rz(np.pi/4,qrl[1])\n",
    "qc.cx(qrl[0],qrl[1])\n",
    "qc.rz(-np.pi/4,qrl[0])\n",
    "qc.h(qrl[0])\n",
    "\n",
    "# Eigenvalue rotation\n",
    "t1=(-np.pi +np.pi/3 - 2*np.arcsin(1/3))/4\n",
    "t2=(-np.pi -np.pi/3 + 2*np.arcsin(1/3))/4\n",
    "t3=(np.pi -np.pi/3 - 2*np.arcsin(1/3))/4\n",
    "t4=(np.pi +np.pi/3 + 2*np.arcsin(1/3))/4\n",
    "\n",
    "qc.cx(qrl[1],qra[0])\n",
    "qc.ry(t1,qra[0])\n",
    "qc.cx(qrl[0],qra[0])\n",
    "qc.ry(t2,qra[0])\n",
    "qc.cx(qrl[1],qra[0])\n",
    "qc.ry(t3,qra[0])\n",
    "qc.cx(qrl[0],qra[0])\n",
    "qc.ry(t4,qra[0])\n",
    "qc.measure_all()\n",
    "\n",
    "print(f\"Depth: {qc.depth()}\")\n",
    "print(f\"CNOTS: {qc.count_ops()['cx']}\")\n",
    "qc.draw(fold=-1)"
   ]
  },
  {
   "cell_type": "code",
   "execution_count": 104,
   "metadata": {},
   "outputs": [],
   "source": [
    "def HHL_2(diag: float, offdiag: float, theta: float, t: float):\n",
    "\n",
    "    NUM_QUBITS = 4  # Total number of qubits\n",
    "    nb = 1  # Number of qubits representing the solution\n",
    "    nl = 2  # Number of qubits representing the eigenvalues\n",
    "\n",
    "    a = diag  # Matrix diagonal\n",
    "    b = offdiag  # Matrix off-diagonal\n",
    "\n",
    "    # Initialize the quantum and classical registers\n",
    "    qr = QuantumRegister(NUM_QUBITS)\n",
    "\n",
    "    # Create a Quantum Circuit\n",
    "    qc = QuantumCircuit(qr)\n",
    "\n",
    "    qrb = qr[0:nb]\n",
    "    qrl = qr[nb:nb+nl]\n",
    "    qra = qr[nb+nl:nb+nl+1]\n",
    "\n",
    "    # State preparation.\n",
    "    qc.ry(2*theta, qrb[0])\n",
    "\n",
    "    # QPE with e^{iAt}\n",
    "    for qu in qrl:\n",
    "        qc.h(qu)\n",
    "\n",
    "    qc.p(a*t, qrl[0])\n",
    "    qc.p(a*t*2, qrl[1])\n",
    "\n",
    "    qc.u(b*t, -np.pi/2, np.pi/2, qrb[0])\n",
    "\n",
    "\n",
    "    # Controlled e^{iAt} on \\lambda_{1}:\n",
    "    params=b*t\n",
    "\n",
    "    qc.p(np.pi/2,qrb[0])\n",
    "    qc.cx(qrl[0],qrb[0])\n",
    "    qc.ry(params,qrb[0])\n",
    "    qc.cx(qrl[0],qrb[0])\n",
    "    qc.ry(-params,qrb[0])\n",
    "    qc.p(3*np.pi/2,qrb[0])\n",
    "\n",
    "    # Controlled e^{2iAt} on \\lambda_{2}:\n",
    "    params = b*t*2\n",
    "\n",
    "    qc.p(np.pi/2,qrb[0])\n",
    "    qc.cx(qrl[1],qrb[0])\n",
    "    qc.ry(params,qrb[0])\n",
    "    qc.cx(qrl[1],qrb[0])\n",
    "    qc.ry(-params,qrb[0])\n",
    "    qc.p(3*np.pi/2,qrb[0])\n",
    "\n",
    "    # Inverse QFT\n",
    "    qc.h(qrl[1])\n",
    "    qc.rz(-np.pi/4,qrl[1])\n",
    "    qc.cx(qrl[0],qrl[1])\n",
    "    qc.rz(np.pi/4,qrl[1])\n",
    "    qc.cx(qrl[0],qrl[1])\n",
    "    qc.rz(-np.pi/4,qrl[0])\n",
    "    qc.h(qrl[0])\n",
    "\n",
    "    # Eigenvalue rotation\n",
    "    t1=(-np.pi +np.pi/3 - 2*np.arcsin(1/3))/4\n",
    "    t2=(-np.pi -np.pi/3 + 2*np.arcsin(1/3))/4\n",
    "    t3=(np.pi -np.pi/3 - 2*np.arcsin(1/3))/4\n",
    "    t4=(np.pi +np.pi/3 + 2*np.arcsin(1/3))/4\n",
    "\n",
    "    qc.cx(qrl[1],qra[0])\n",
    "    qc.ry(t1,qra[0])\n",
    "    qc.cx(qrl[0],qra[0])\n",
    "    qc.ry(t2,qra[0])\n",
    "    qc.cx(qrl[1],qra[0])\n",
    "    qc.ry(t3,qra[0])\n",
    "    qc.cx(qrl[0],qra[0])\n",
    "    qc.ry(t4,qra[0])\n",
    "    qc.measure_all()\n",
    "\n",
    "    return qc\n",
    "\n",
    "    # print(f\"Depth: {qc.depth()}\")\n",
    "    # print(f\"CNOTS: {qc.count_ops()['cx']}\")\n",
    "    # qc.draw(fold=-1)"
   ]
  },
  {
   "cell_type": "code",
   "execution_count": 105,
   "metadata": {},
   "outputs": [],
   "source": [
    "qc = HHL_2(1.5, .5, np.pi/4, 1)"
   ]
  },
  {
   "cell_type": "code",
   "execution_count": 106,
   "metadata": {},
   "outputs": [],
   "source": [
    "from qiskit import IBMQ, transpile\n"
   ]
  },
  {
   "cell_type": "code",
   "execution_count": 107,
   "metadata": {},
   "outputs": [],
   "source": [
    "simulator = QasmSimulator()\n",
    "layout = [2,3,0,4]\n",
    "\n",
    "compiled_circuit = transpile(qc, backend=simulator, initial_layout=layout)\n",
    "job = simulator.run(compiled_circuit, shots=1000)"
   ]
  },
  {
   "cell_type": "code",
   "execution_count": 108,
   "metadata": {},
   "outputs": [
    {
     "data": {
      "text/plain": [
       "{'1011': 13,\n",
       " '1010': 18,\n",
       " '1100': 386,\n",
       " '1111': 1,\n",
       " '0111': 18,\n",
       " '0011': 41,\n",
       " '0010': 43,\n",
       " '0000': 20,\n",
       " '0001': 25,\n",
       " '0110': 22,\n",
       " '1101': 413}"
      ]
     },
     "execution_count": 108,
     "metadata": {},
     "output_type": "execute_result"
    }
   ],
   "source": [
    "result=job.result()\n",
    "counts=result.get_counts()\n",
    "counts"
   ]
  },
  {
   "cell_type": "code",
   "execution_count": 109,
   "metadata": {},
   "outputs": [],
   "source": [
    "# for mitagating readout errors\n",
    "from qiskit.utils.mitigation import complete_meas_cal\n",
    "chip_qubits = 5\n",
    "\n",
    "\n",
    "meas_cals, state_labels = complete_meas_cal(qubit_list=layout,\n",
    "                                            qr=QuantumRegister(chip_qubits))\n",
    "qcs = meas_cals + [compiled_circuit]\n",
    "\n",
    "job = simulator.run(qcs, shots=1000)"
   ]
  },
  {
   "cell_type": "code",
   "execution_count": 110,
   "metadata": {},
   "outputs": [
    {
     "data": {
      "text/plain": [
       "{'1010': 14,\n",
       " '1011': 22,\n",
       " '1110': 1,\n",
       " '1100': 373,\n",
       " '0111': 25,\n",
       " '0001': 24,\n",
       " '0011': 37,\n",
       " '0010': 50,\n",
       " '0000': 33,\n",
       " '0110': 23,\n",
       " '1111': 3,\n",
       " '1101': 395}"
      ]
     },
     "execution_count": 110,
     "metadata": {},
     "output_type": "execute_result"
    }
   ],
   "source": [
    "result=job.result()\n",
    "counts=result.get_counts()\n",
    "counts[-1]"
   ]
  },
  {
   "cell_type": "code",
   "execution_count": 154,
   "metadata": {},
   "outputs": [],
   "source": [
    "def extract_counts(dict):\n",
    "    total_counts = 0\n",
    "    relevant_count0 = 0\n",
    "    relevant_count1 = 0\n",
    "    for key in dict:\n",
    "        if key[0] == '1':\n",
    "            if key[-1] == '1':\n",
    "                relevant_count1 += dict[key]\n",
    "            if key[-1] == \"0\":\n",
    "                relevant_count0 += dict[key]\n",
    "        total_counts += dict[key]\n",
    "    return (relevant_count0/total_counts, relevant_count1/total_counts)"
   ]
  },
  {
   "cell_type": "code",
   "execution_count": 134,
   "metadata": {},
   "outputs": [
    {
     "data": {
      "text/plain": [
       "(0.388, 0.42)"
      ]
     },
     "execution_count": 134,
     "metadata": {},
     "output_type": "execute_result"
    }
   ],
   "source": [
    "p = extract_counts(counts[-1])\n",
    "p"
   ]
  },
  {
   "cell_type": "code",
   "execution_count": 135,
   "metadata": {},
   "outputs": [],
   "source": [
    "def extract_solution(probs):\n",
    "    return (np.sqrt(probs[0]), np.sqrt(probs[1]))"
   ]
  },
  {
   "cell_type": "code",
   "execution_count": 136,
   "metadata": {},
   "outputs": [
    {
     "data": {
      "text/plain": [
       "(0.6228964600958975, 0.648074069840786)"
      ]
     },
     "execution_count": 136,
     "metadata": {},
     "output_type": "execute_result"
    }
   ],
   "source": [
    "sol = extract_solution(p)\n",
    "sol"
   ]
  },
  {
   "cell_type": "code",
   "execution_count": 137,
   "metadata": {},
   "outputs": [
    {
     "data": {
      "text/plain": [
       "0.9994859457079409"
      ]
     },
     "execution_count": 137,
     "metadata": {},
     "output_type": "execute_result"
    }
   ],
   "source": [
    "# calculate fidelity of results\n",
    "v1 = [0.354, 0.354]\n",
    "v2 = [np.sqrt(0.440), np.sqrt(0.387)]\n",
    "\n",
    "np.dot(np.array(v1)/np.linalg.norm(v1), np.array(v2)/np.linalg.norm(v2))"
   ]
  },
  {
   "cell_type": "code",
   "execution_count": 138,
   "metadata": {},
   "outputs": [],
   "source": [
    "def calculate_normalized_fidelity(v1, v2):\n",
    "    return np.dot(np.array(v1)/np.linalg.norm(v1), np.array(v2)/np.linalg.norm(v2))"
   ]
  },
  {
   "cell_type": "code",
   "execution_count": 139,
   "metadata": {},
   "outputs": [
    {
     "data": {
      "text/plain": [
       "0.9998044590384589"
      ]
     },
     "execution_count": 139,
     "metadata": {},
     "output_type": "execute_result"
    }
   ],
   "source": [
    "calculate_normalized_fidelity(p, sol)"
   ]
  },
  {
   "cell_type": "code",
   "execution_count": 140,
   "metadata": {},
   "outputs": [
    {
     "name": "stderr",
     "output_type": "stream",
     "text": [
      "ibmqfactory.load_account:WARNING:2023-04-22 15:32:22,836: Credentials are already in use. The existing account in the session will be replaced.\n"
     ]
    }
   ],
   "source": [
    "\n",
    "# load IBM account\n",
    "IBMQ.save_account('2bb24b1ffb16645433661cd2214aedc8d53fef6a635ac74857b0e282de4e4597754228444daece952006fb5dff87b434835547e926a5539b24f800818c08e394',overwrite=True)\n",
    "IBMQ.load_account()\n",
    "\n",
    "provider = IBMQ.providers()\n",
    "provider = IBMQ.get_provider(hub='ibm-q-education', group='harvard', project='qse-210')\n",
    "backend=provider.get_backend(\"ibmq_belem\")"
   ]
  },
  {
   "cell_type": "code",
   "execution_count": 144,
   "metadata": {},
   "outputs": [
    {
     "name": "stdout",
     "output_type": "stream",
     "text": [
      "(0.1171875, 0.076171875) (0.3423265984407288, 0.27599252707274524) 0.9620831217219658\n",
      "{'1011': 7, '1010': 18, '0110': 23, '0011': 38, '0001': 25, '1110': 4, '1100': 344, '0000': 43, '0010': 54, '0111': 15, '1111': 1, '1101': 452}\n"
     ]
    }
   ],
   "source": [
    "qc2 = HHL_2(1.5, 0.5, -2.23, 1)\n",
    "layout = [2,3,0,4]\n",
    "\n",
    "compiled_circuit = transpile(qc2, backend=simulator, initial_layout=layout)\n",
    "chip_qubits = 5\n",
    "meas_cals, state_labels = complete_meas_cal(qubit_list=layout,\n",
    "                                            qr=QuantumRegister(chip_qubits))\n",
    "qcs2 = meas_cals + [compiled_circuit]\n",
    "job2 = simulator.run(qcs2, shots=1024)\n",
    "\n",
    "result2=job2.result()\n",
    "counts2=result2.get_counts()\n",
    "p2 = extract_counts(counts2[-1])\n",
    "sol2 = extract_solution(p2)\n",
    "\n",
    "classical_sol = (0.555, 0.784)\n",
    "\n",
    "f2 = calculate_normalized_fidelity(classical_sol, sol2)\n",
    "\n",
    "print(p2, sol2, f2)\n",
    "print(counts2[-1])"
   ]
  },
  {
   "cell_type": "code",
   "execution_count": 145,
   "metadata": {},
   "outputs": [
    {
     "data": {
      "text/plain": [
       "0.9678739423742864"
      ]
     },
     "execution_count": 145,
     "metadata": {},
     "output_type": "execute_result"
    }
   ],
   "source": [
    "calculate_normalized_fidelity(classical_sol, (np.sqrt(0.098), np.sqrt(0.684)))\n"
   ]
  },
  {
   "cell_type": "code",
   "execution_count": 146,
   "metadata": {},
   "outputs": [],
   "source": [
    "from qiskit.utils.mitigation import complete_meas_cal\n",
    "\n",
    "# provider = IBMQ.load_account()\n",
    "\n",
    "# backend = provider.get_backend('ibmq_quito') # calibrate using real hardware\n",
    "layout = [2,3,0,4]\n",
    "chip_qubits = 5\n",
    "\n",
    "# Transpiled circuit for the real hardware\n",
    "qc_qa_cx = transpile(qc, backend=backend, initial_layout=layout)"
   ]
  },
  {
   "cell_type": "code",
   "execution_count": 147,
   "metadata": {},
   "outputs": [],
   "source": [
    "meas_cals, state_labels = complete_meas_cal(qubit_list=layout,\n",
    "                                            qr=QuantumRegister(chip_qubits))\n",
    "qcs = meas_cals + [qc_qa_cx]\n",
    "\n",
    "job = backend.run(qcs, shots=10)"
   ]
  },
  {
   "cell_type": "code",
   "execution_count": 177,
   "metadata": {},
   "outputs": [
    {
     "name": "stdout",
     "output_type": "stream",
     "text": [
      "(0.3955078125, 0.248046875) (0.6288941186718159, 0.49804304532841337) 0.9886111245224527\n",
      "{'1010': 3, '1011': 11, '0010': 22, '0000': 116, '1110': 3, '1100': 399, '0111': 29, '0001': 133, '0011': 48, '1101': 238, '1111': 5, '0110': 17}\n"
     ]
    }
   ],
   "source": [
    "qc2 = HHL_2(1.5, 0.5, -0.57, 1)\n",
    "layout = [2,3,0,4]\n",
    "\n",
    "compiled_circuit = transpile(qc2, backend=simulator, initial_layout=layout)\n",
    "chip_qubits = 5\n",
    "meas_cals, state_labels = complete_meas_cal(qubit_list=layout,\n",
    "                                            qr=QuantumRegister(chip_qubits))\n",
    "qcs2 = meas_cals + [compiled_circuit]\n",
    "job2 = simulator.run(qcs2, shots=1024)\n",
    "\n",
    "result2=job2.result()\n",
    "counts2=result2.get_counts()\n",
    "p2 = extract_counts(counts2[-1])\n",
    "sol2 = extract_solution(p2)\n",
    "\n",
    "classical_sol = (0.790, 0.451)\n",
    "\n",
    "f2 = calculate_normalized_fidelity(classical_sol, sol2)\n",
    "\n",
    "print(p2, sol2, f2)\n",
    "print(counts2[-1])"
   ]
  },
  {
   "cell_type": "code",
   "execution_count": null,
   "metadata": {},
   "outputs": [],
   "source": []
  },
  {
   "cell_type": "code",
   "execution_count": null,
   "metadata": {},
   "outputs": [],
   "source": []
  }
 ],
 "metadata": {
  "kernelspec": {
   "display_name": "quantum",
   "language": "python",
   "name": "python3"
  },
  "language_info": {
   "codemirror_mode": {
    "name": "ipython",
    "version": 3
   },
   "file_extension": ".py",
   "mimetype": "text/x-python",
   "name": "python",
   "nbconvert_exporter": "python",
   "pygments_lexer": "ipython3",
   "version": "3.11.3"
  },
  "orig_nbformat": 4
 },
 "nbformat": 4,
 "nbformat_minor": 2
}
