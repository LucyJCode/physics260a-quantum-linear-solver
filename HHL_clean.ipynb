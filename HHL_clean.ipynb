{
 "cells": [
  {
   "attachments": {},
   "cell_type": "markdown",
   "metadata": {},
   "source": [
    "# HHL algorithm"
   ]
  },
  {
   "cell_type": "code",
   "execution_count": 6,
   "metadata": {},
   "outputs": [],
   "source": [
    "from qiskit import QuantumRegister, QuantumCircuit\n",
    "import numpy as np\n",
    "from qiskit.providers.aer import QasmSimulator\n",
    "from qiskit.visualization import plot_histogram\n",
    "from qiskit import IBMQ, transpile\n",
    "\n",
    "# for mitagating readout errors\n",
    "from qiskit.utils.mitigation import complete_meas_cal\n"
   ]
  },
  {
   "cell_type": "code",
   "execution_count": 7,
   "metadata": {},
   "outputs": [],
   "source": [
    "def HHL_2(diag: float, offdiag: float, theta: float, t: float):\n",
    "\n",
    "    NUM_QUBITS = 4  # Total number of qubits\n",
    "    nb = 1  # Number of qubits representing the solution\n",
    "    nl = 2  # Number of qubits representing the eigenvalues\n",
    "\n",
    "    a = diag  # Matrix diagonal\n",
    "    b = offdiag  # Matrix off-diagonal\n",
    "\n",
    "    # Initialize the quantum and classical registers\n",
    "    qr = QuantumRegister(NUM_QUBITS)\n",
    "\n",
    "    # Create a Quantum Circuit\n",
    "    qc = QuantumCircuit(qr)\n",
    "\n",
    "    qrb = qr[0:nb]\n",
    "    qrl = qr[nb:nb+nl]\n",
    "    qra = qr[nb+nl:nb+nl+1]\n",
    "\n",
    "    # State preparation.\n",
    "    qc.ry(2*theta, qrb[0])\n",
    "\n",
    "    # QPE with e^{iAt}\n",
    "    for qu in qrl:\n",
    "        qc.h(qu)\n",
    "\n",
    "    qc.p(a*t, qrl[0])\n",
    "    qc.p(a*t*2, qrl[1])\n",
    "\n",
    "    qc.u(b*t, -np.pi/2, np.pi/2, qrb[0])\n",
    "\n",
    "\n",
    "    # Controlled e^{iAt} on \\lambda_{1}:\n",
    "    params=b*t\n",
    "\n",
    "    qc.p(np.pi/2,qrb[0])\n",
    "    qc.cx(qrl[0],qrb[0])\n",
    "    qc.ry(params,qrb[0])\n",
    "    qc.cx(qrl[0],qrb[0])\n",
    "    qc.ry(-params,qrb[0])\n",
    "    qc.p(3*np.pi/2,qrb[0])\n",
    "\n",
    "    # Controlled e^{2iAt} on \\lambda_{2}:\n",
    "    params = b*t*2\n",
    "\n",
    "    qc.p(np.pi/2,qrb[0])\n",
    "    qc.cx(qrl[1],qrb[0])\n",
    "    qc.ry(params,qrb[0])\n",
    "    qc.cx(qrl[1],qrb[0])\n",
    "    qc.ry(-params,qrb[0])\n",
    "    qc.p(3*np.pi/2,qrb[0])\n",
    "\n",
    "    # Inverse QFT\n",
    "    qc.h(qrl[1])\n",
    "    qc.rz(-np.pi/4,qrl[1])\n",
    "    qc.cx(qrl[0],qrl[1])\n",
    "    qc.rz(np.pi/4,qrl[1])\n",
    "    qc.cx(qrl[0],qrl[1])\n",
    "    qc.rz(-np.pi/4,qrl[0])\n",
    "    qc.h(qrl[0])\n",
    "\n",
    "    # Eigenvalue rotation\n",
    "    t1=(-np.pi +np.pi/3 - 2*np.arcsin(1/3))/4\n",
    "    t2=(-np.pi -np.pi/3 + 2*np.arcsin(1/3))/4\n",
    "    t3=(np.pi -np.pi/3 - 2*np.arcsin(1/3))/4\n",
    "    t4=(np.pi +np.pi/3 + 2*np.arcsin(1/3))/4\n",
    "\n",
    "    qc.cx(qrl[1],qra[0])\n",
    "    qc.ry(t1,qra[0])\n",
    "    qc.cx(qrl[0],qra[0])\n",
    "    qc.ry(t2,qra[0])\n",
    "    qc.cx(qrl[1],qra[0])\n",
    "    qc.ry(t3,qra[0])\n",
    "    qc.cx(qrl[0],qra[0])\n",
    "    qc.ry(t4,qra[0])\n",
    "    qc.measure_all()\n",
    "\n",
    "    return qc\n",
    "\n",
    "    # print(f\"Depth: {qc.depth()}\")\n",
    "    # print(f\"CNOTS: {qc.count_ops()['cx']}\")\n",
    "    # qc.draw(fold=-1)"
   ]
  },
  {
   "cell_type": "code",
   "execution_count": 12,
   "metadata": {},
   "outputs": [],
   "source": [
    "def extract_counts(dict):\n",
    "    total_counts = 0\n",
    "    relevant_count0 = 0\n",
    "    relevant_count1 = 0\n",
    "    for key in dict:\n",
    "        if key[0] == '1':\n",
    "            if key[-1] == '1':\n",
    "                relevant_count1 += dict[key]\n",
    "            if key[-1] == \"0\":\n",
    "                relevant_count0 += dict[key]\n",
    "        total_counts += dict[key]\n",
    "    return (relevant_count0/total_counts, relevant_count1/total_counts)"
   ]
  },
  {
   "cell_type": "code",
   "execution_count": 9,
   "metadata": {},
   "outputs": [],
   "source": [
    "def extract_solution(probs):\n",
    "    return (np.sqrt(probs[0]), np.sqrt(probs[1]))"
   ]
  },
  {
   "cell_type": "code",
   "execution_count": 10,
   "metadata": {},
   "outputs": [],
   "source": [
    "def calculate_normalized_fidelity(v1, v2):\n",
    "    return np.dot(np.array(v1)/np.linalg.norm(v1), np.array(v2)/np.linalg.norm(v2))"
   ]
  },
  {
   "attachments": {},
   "cell_type": "markdown",
   "metadata": {},
   "source": [
    "## Simulations"
   ]
  },
  {
   "cell_type": "code",
   "execution_count": 14,
   "metadata": {},
   "outputs": [
    {
     "name": "stdout",
     "output_type": "stream",
     "text": [
      "(0.18359375, 0.572265625) (0.42847841252506524, 0.7564824023068878) 0.9637590941974993\n",
      "{'1011': 7, '1010': 15, '0110': 26, '0011': 17, '0001': 33, '1100': 170, '1110': 3, '0111': 15, '0000': 94, '0010': 65, '1111': 4, '1101': 575}\n"
     ]
    }
   ],
   "source": [
    "def paper_no2():\n",
    "    simulator = QasmSimulator()\n",
    "    qc2 = HHL_2(1.5, 0.5, np.pi/2, 1)\n",
    "    layout = [2,3,0,4]\n",
    "\n",
    "    compiled_circuit = transpile(qc2, backend=simulator, initial_layout=layout)\n",
    "    chip_qubits = 5\n",
    "    meas_cals, state_labels = complete_meas_cal(qubit_list=layout,\n",
    "                                                qr=QuantumRegister(chip_qubits))\n",
    "    qcs2 = meas_cals + [compiled_circuit]\n",
    "    job2 = simulator.run(qcs2, shots=1024)\n",
    "\n",
    "    result2=job2.result()\n",
    "    counts2=result2.get_counts()\n",
    "    p2 = extract_counts(counts2[-1])\n",
    "    sol2 = extract_solution(p2)\n",
    "\n",
    "    classical_sol = (0.354, 0.354)\n",
    "\n",
    "    f2 = calculate_normalized_fidelity(classical_sol, sol2)\n",
    "\n",
    "    print(p2, sol2, f2)\n",
    "    print(counts2[-1])\n",
    "paper_no2()"
   ]
  },
  {
   "cell_type": "code",
   "execution_count": 13,
   "metadata": {},
   "outputs": [
    {
     "name": "stdout",
     "output_type": "stream",
     "text": [
      "(0.3564453125, 0.462890625) (0.5970304117044625, 0.6803606580336637) 0.9945717224264183\n",
      "{'1110': 2, '1010': 20, '1011': 10, '0011': 43, '0001': 9, '0110': 27, '1100': 343, '1101': 462, '1111': 2, '0111': 10, '0000': 36, '0010': 60}\n"
     ]
    }
   ],
   "source": [
    "def paper_no4():\n",
    "    simulator = QasmSimulator()\n",
    "    qc2 = HHL_2(1.5, 0.5, -2.23, 1)\n",
    "    layout = [2,3,0,4]\n",
    "\n",
    "    compiled_circuit = transpile(qc2, backend=simulator, initial_layout=layout)\n",
    "    chip_qubits = 5\n",
    "    meas_cals, state_labels = complete_meas_cal(qubit_list=layout,\n",
    "                                                qr=QuantumRegister(chip_qubits))\n",
    "    qcs2 = meas_cals + [compiled_circuit]\n",
    "    job2 = simulator.run(qcs2, shots=1024)\n",
    "\n",
    "    result2=job2.result()\n",
    "    counts2=result2.get_counts()\n",
    "    p2 = extract_counts(counts2[-1])\n",
    "    sol2 = extract_solution(p2)\n",
    "\n",
    "    classical_sol = (0.555, 0.784)\n",
    "\n",
    "    f2 = calculate_normalized_fidelity(classical_sol, sol2)\n",
    "\n",
    "    print(p2, sol2, f2)\n",
    "    print(counts2[-1])\n",
    "paper_no4()"
   ]
  },
  {
   "attachments": {},
   "cell_type": "markdown",
   "metadata": {},
   "source": [
    "## On Quantum Hardware"
   ]
  },
  {
   "cell_type": "code",
   "execution_count": 19,
   "metadata": {},
   "outputs": [
    {
     "name": "stderr",
     "output_type": "stream",
     "text": [
      "ibmqfactory.load_account:WARNING:2023-04-23 16:05:59,172: Credentials are already in use. The existing account in the session will be replaced.\n"
     ]
    }
   ],
   "source": [
    "\n",
    "# load IBM account\n",
    "IBMQ.save_account('2bb24b1ffb16645433661cd2214aedc8d53fef6a635ac74857b0e282de4e4597754228444daece952006fb5dff87b434835547e926a5539b24f800818c08e394',overwrite=True)\n",
    "IBMQ.load_account()\n",
    "\n",
    "provider = IBMQ.providers()\n",
    "provider = IBMQ.get_provider(hub='ibm-q-education', group='harvard', project='qse-210')\n"
   ]
  },
  {
   "cell_type": "code",
   "execution_count": 22,
   "metadata": {},
   "outputs": [],
   "source": [
    "# backend=provider.get_backend(\"ibm_perth\")\n",
    "backend=provider.get_backend(\"ibmq_quito\")"
   ]
  },
  {
   "cell_type": "code",
   "execution_count": 24,
   "metadata": {},
   "outputs": [
    {
     "name": "stdout",
     "output_type": "stream",
     "text": [
      "(0.227294921875, 0.327392578125) (0.4767545719497612, 0.5721822944875173) 0.9958872269528781\n",
      "{'0000': 892, '0001': 444, '0010': 518, '0011': 298, '0100': 149, '0101': 195, '0110': 575, '0111': 577, '1000': 191, '1001': 150, '1010': 238, '1011': 155, '1100': 1128, '1101': 2158, '1110': 305, '1111': 219}\n"
     ]
    }
   ],
   "source": [
    "def paper_no2_hardware():\n",
    "    qc2 = HHL_2(1.5, 0.5, np.pi/2, 1)\n",
    "    layout = [0,1,2,3]\n",
    "\n",
    "    compiled_circuit = transpile(qc2, backend=backend, initial_layout=layout)\n",
    "    chip_qubits = 5\n",
    "    meas_cals, state_labels = complete_meas_cal(qubit_list=layout,\n",
    "                                                qr=QuantumRegister(chip_qubits))\n",
    "    qcs2 = meas_cals + [compiled_circuit]\n",
    "    job2 = backend.run(qcs2, shots=8192)\n",
    "\n",
    "    result2=job2.result()\n",
    "    counts2=result2.get_counts()\n",
    "    p2 = extract_counts(counts2[-1])\n",
    "    sol2 = extract_solution(p2)\n",
    "\n",
    "    classical_sol = (0.354, 0.354)\n",
    "\n",
    "    f2 = calculate_normalized_fidelity(classical_sol, sol2)\n",
    "\n",
    "    print(p2, sol2, f2)\n",
    "    print(counts2[-1])\n",
    "paper_no2_hardware()"
   ]
  },
  {
   "cell_type": "code",
   "execution_count": 18,
   "metadata": {},
   "outputs": [
    {
     "ename": "AttributeError",
     "evalue": "'str' object has no attribute 'status'",
     "output_type": "error",
     "traceback": [
      "\u001b[0;31m---------------------------------------------------------------------------\u001b[0m",
      "\u001b[0;31mAttributeError\u001b[0m                            Traceback (most recent call last)",
      "Cell \u001b[0;32mIn[18], line 2\u001b[0m\n\u001b[1;32m      1\u001b[0m \u001b[39mfrom\u001b[39;00m \u001b[39mqiskit\u001b[39;00m\u001b[39m.\u001b[39;00m\u001b[39mtools\u001b[39;00m\u001b[39m.\u001b[39;00m\u001b[39mmonitor\u001b[39;00m \u001b[39mimport\u001b[39;00m job_monitor\n\u001b[0;32m----> 2\u001b[0m job_monitor(\u001b[39m\"\u001b[39;49m\u001b[39mch2orrg5ngm0qhdftkm0\u001b[39;49m\u001b[39m\"\u001b[39;49m)\n",
      "File \u001b[0;32m~/miniforge3/envs/quantum/lib/python3.11/site-packages/qiskit/tools/monitor/job_monitor.py:105\u001b[0m, in \u001b[0;36mjob_monitor\u001b[0;34m(job, interval, quiet, output, line_discipline)\u001b[0m\n\u001b[1;32m    102\u001b[0m \u001b[39melse\u001b[39;00m:\n\u001b[1;32m    103\u001b[0m     _interval_set \u001b[39m=\u001b[39m \u001b[39mTrue\u001b[39;00m\n\u001b[0;32m--> 105\u001b[0m _text_checker(\n\u001b[1;32m    106\u001b[0m     job, interval, _interval_set, quiet\u001b[39m=\u001b[39;49mquiet, output\u001b[39m=\u001b[39;49moutput, line_discipline\u001b[39m=\u001b[39;49mline_discipline\n\u001b[1;32m    107\u001b[0m )\n",
      "File \u001b[0;32m~/miniforge3/envs/quantum/lib/python3.11/site-packages/qiskit/tools/monitor/job_monitor.py:36\u001b[0m, in \u001b[0;36m_text_checker\u001b[0;34m(job, interval, _interval_set, quiet, output, line_discipline)\u001b[0m\n\u001b[1;32m     20\u001b[0m \u001b[39mdef\u001b[39;00m \u001b[39m_text_checker\u001b[39m(\n\u001b[1;32m     21\u001b[0m     job, interval, _interval_set\u001b[39m=\u001b[39m\u001b[39mFalse\u001b[39;00m, quiet\u001b[39m=\u001b[39m\u001b[39mFalse\u001b[39;00m, output\u001b[39m=\u001b[39msys\u001b[39m.\u001b[39mstdout, line_discipline\u001b[39m=\u001b[39m\u001b[39m\"\u001b[39m\u001b[39m\\r\u001b[39;00m\u001b[39m\"\u001b[39m\n\u001b[1;32m     22\u001b[0m ):\n\u001b[1;32m     23\u001b[0m \u001b[39m    \u001b[39m\u001b[39m\"\"\"A text-based job status checker\u001b[39;00m\n\u001b[1;32m     24\u001b[0m \n\u001b[1;32m     25\u001b[0m \u001b[39m    Args:\u001b[39;00m\n\u001b[0;32m   (...)\u001b[0m\n\u001b[1;32m     34\u001b[0m \n\u001b[1;32m     35\u001b[0m \u001b[39m    \"\"\"\u001b[39;00m\n\u001b[0;32m---> 36\u001b[0m     status \u001b[39m=\u001b[39m job\u001b[39m.\u001b[39;49mstatus()\n\u001b[1;32m     37\u001b[0m     msg \u001b[39m=\u001b[39m status\u001b[39m.\u001b[39mvalue\n\u001b[1;32m     38\u001b[0m     prev_msg \u001b[39m=\u001b[39m msg\n",
      "\u001b[0;31mAttributeError\u001b[0m: 'str' object has no attribute 'status'"
     ]
    }
   ],
   "source": []
  },
  {
   "cell_type": "code",
   "execution_count": null,
   "metadata": {},
   "outputs": [],
   "source": []
  }
 ],
 "metadata": {
  "kernelspec": {
   "display_name": "quantum",
   "language": "python",
   "name": "python3"
  },
  "language_info": {
   "codemirror_mode": {
    "name": "ipython",
    "version": 3
   },
   "file_extension": ".py",
   "mimetype": "text/x-python",
   "name": "python",
   "nbconvert_exporter": "python",
   "pygments_lexer": "ipython3",
   "version": "3.11.3"
  },
  "orig_nbformat": 4
 },
 "nbformat": 4,
 "nbformat_minor": 2
}
