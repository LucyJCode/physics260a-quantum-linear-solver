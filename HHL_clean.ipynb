{
 "cells": [
  {
   "attachments": {},
   "cell_type": "markdown",
   "metadata": {},
   "source": [
    "# HHL algorithm"
   ]
  },
  {
   "cell_type": "code",
   "execution_count": 1,
   "metadata": {},
   "outputs": [],
   "source": [
    "from qiskit import QuantumRegister, QuantumCircuit\n",
    "import numpy as np\n",
    "from qiskit.providers.aer import QasmSimulator\n",
    "from qiskit.visualization import plot_histogram\n",
    "from qiskit import IBMQ, transpile\n",
    "\n",
    "# for mitagating readout errors\n",
    "from qiskit.utils.mitigation import complete_meas_cal\n"
   ]
  },
  {
   "cell_type": "code",
   "execution_count": 2,
   "metadata": {},
   "outputs": [],
   "source": [
    "def HHL_2(diag: float, offdiag: float, theta: float, t: float):\n",
    "\n",
    "    NUM_QUBITS = 4  # Total number of qubits\n",
    "    nb = 1  # Number of qubits representing the solution\n",
    "    nl = 2  # Number of qubits representing the eigenvalues\n",
    "\n",
    "    a = diag  # Matrix diagonal\n",
    "    b = offdiag  # Matrix off-diagonal\n",
    "\n",
    "    # Initialize the quantum and classical registers\n",
    "    qr = QuantumRegister(NUM_QUBITS)\n",
    "\n",
    "    # Create a Quantum Circuit\n",
    "    qc = QuantumCircuit(qr)\n",
    "\n",
    "    qrb = qr[0:nb]\n",
    "    qrl = qr[nb:nb+nl]\n",
    "    qra = qr[nb+nl:nb+nl+1]\n",
    "\n",
    "    # State preparation.\n",
    "    qc.ry(2*theta, qrb[0])\n",
    "\n",
    "    # QPE with e^{iAt}\n",
    "    for qu in qrl:\n",
    "        qc.h(qu)\n",
    "\n",
    "    qc.p(a*t, qrl[0])\n",
    "    qc.p(a*t*2, qrl[1])\n",
    "\n",
    "    qc.u(b*t, -np.pi/2, np.pi/2, qrb[0])\n",
    "\n",
    "\n",
    "    # Controlled e^{iAt} on \\lambda_{1}:\n",
    "    params=b*t\n",
    "\n",
    "    qc.p(np.pi/2,qrb[0])\n",
    "    qc.cx(qrl[0],qrb[0])\n",
    "    qc.ry(params,qrb[0])\n",
    "    qc.cx(qrl[0],qrb[0])\n",
    "    qc.ry(-params,qrb[0])\n",
    "    qc.p(3*np.pi/2,qrb[0])\n",
    "\n",
    "    # Controlled e^{2iAt} on \\lambda_{2}:\n",
    "    params = b*t*2\n",
    "\n",
    "    qc.p(np.pi/2,qrb[0])\n",
    "    qc.cx(qrl[1],qrb[0])\n",
    "    qc.ry(params,qrb[0])\n",
    "    qc.cx(qrl[1],qrb[0])\n",
    "    qc.ry(-params,qrb[0])\n",
    "    qc.p(3*np.pi/2,qrb[0])\n",
    "\n",
    "    # Inverse QFT\n",
    "    qc.h(qrl[1])\n",
    "    qc.rz(-np.pi/4,qrl[1])\n",
    "    qc.cx(qrl[0],qrl[1])\n",
    "    qc.rz(np.pi/4,qrl[1])\n",
    "    qc.cx(qrl[0],qrl[1])\n",
    "    qc.rz(-np.pi/4,qrl[0])\n",
    "    qc.h(qrl[0])\n",
    "\n",
    "    # Eigenvalue rotation\n",
    "    t1=(-np.pi +np.pi/3 - 2*np.arcsin(1/3))/4\n",
    "    t2=(-np.pi -np.pi/3 + 2*np.arcsin(1/3))/4\n",
    "    t3=(np.pi -np.pi/3 - 2*np.arcsin(1/3))/4\n",
    "    t4=(np.pi +np.pi/3 + 2*np.arcsin(1/3))/4\n",
    "\n",
    "    qc.cx(qrl[1],qra[0])\n",
    "    qc.ry(t1,qra[0])\n",
    "    qc.cx(qrl[0],qra[0])\n",
    "    qc.ry(t2,qra[0])\n",
    "    qc.cx(qrl[1],qra[0])\n",
    "    qc.ry(t3,qra[0])\n",
    "    qc.cx(qrl[0],qra[0])\n",
    "    qc.ry(t4,qra[0])\n",
    "    qc.measure_all()\n",
    "\n",
    "    return qc\n",
    "\n",
    "    # print(f\"Depth: {qc.depth()}\")\n",
    "    # print(f\"CNOTS: {qc.count_ops()['cx']}\")\n",
    "    # qc.draw(fold=-1)"
   ]
  },
  {
   "cell_type": "code",
   "execution_count": 3,
   "metadata": {},
   "outputs": [],
   "source": [
    "def extract_counts(dict):\n",
    "    total_counts = 0\n",
    "    relevant_count0 = 0\n",
    "    relevant_count1 = 0\n",
    "    for key in dict:\n",
    "        if key[0] == '0':\n",
    "            if key[-1] == '1':\n",
    "                relevant_count1 += dict[key]\n",
    "            if key[-1] == \"0\":\n",
    "                relevant_count0 += dict[key]\n",
    "        total_counts += dict[key]\n",
    "    return (relevant_count0/total_counts, relevant_count1/total_counts)"
   ]
  },
  {
   "cell_type": "code",
   "execution_count": 4,
   "metadata": {},
   "outputs": [],
   "source": [
    "def extract_solution(probs):\n",
    "    return (np.sqrt(probs[0]), np.sqrt(probs[1]))"
   ]
  },
  {
   "cell_type": "code",
   "execution_count": 5,
   "metadata": {},
   "outputs": [],
   "source": [
    "def calculate_normalized_fidelity(v1, v2):\n",
    "    return np.dot(np.array(v1)/np.linalg.norm(v1), np.array(v2)/np.linalg.norm(v2))"
   ]
  },
  {
   "cell_type": "code",
   "execution_count": null,
   "metadata": {},
   "outputs": [],
   "source": [
    "\n",
    "# load IBM account\n",
    "IBMQ.save_account('2bb24b1ffb16645433661cd2214aedc8d53fef6a635ac74857b0e282de4e4597754228444daece952006fb5dff87b434835547e926a5539b24f800818c08e394',overwrite=True)\n",
    "IBMQ.load_account()\n",
    "\n",
    "provider = IBMQ.providers()\n",
    "provider = IBMQ.get_provider(hub='ibm-q-education', group='harvard', project='qse-210')\n",
    "backend=provider.get_backend(\"ibmq_belem\")"
   ]
  }
 ],
 "metadata": {
  "kernelspec": {
   "display_name": "quantum",
   "language": "python",
   "name": "python3"
  },
  "language_info": {
   "codemirror_mode": {
    "name": "ipython",
    "version": 3
   },
   "file_extension": ".py",
   "mimetype": "text/x-python",
   "name": "python",
   "nbconvert_exporter": "python",
   "pygments_lexer": "ipython3",
   "version": "3.11.3"
  },
  "orig_nbformat": 4
 },
 "nbformat": 4,
 "nbformat_minor": 2
}
