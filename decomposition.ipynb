{
 "cells": [
  {
   "cell_type": "code",
   "execution_count": 2,
   "metadata": {},
   "outputs": [],
   "source": [
    "import numpy as np\n",
    "\n",
    "def HS(M1, M2):\n",
    "    \"\"\"Hilbert-Schmidt-Product of two matrices M1, M2\"\"\"\n",
    "    return (np.dot(M1.conjugate().transpose(), M2)).trace()\n",
    "\n",
    "def c2s(c):\n",
    "    \"\"\"Return a string representation of a complex number c\"\"\"\n",
    "    if c == 0.0:\n",
    "        return \"0\"\n",
    "    if c.imag == 0:\n",
    "        return \"%g\" % c.real\n",
    "    elif c.real == 0:\n",
    "        return \"%gj\" % c.imag\n",
    "    else:\n",
    "        return \"%g+%gj\" % (c.real, c.imag)\n",
    "\n",
    "def decompose(H):\n",
    "    \"\"\"Decompose Hermitian 4x4 matrix H into Pauli matrices\"\"\"\n",
    "    from numpy import kron\n",
    "    sx = np.array([[0, 1],  [ 1, 0]], dtype=np.complex128)\n",
    "    sy = np.array([[0, -1j],[1j, 0]], dtype=np.complex128)\n",
    "    sz = np.array([[1, 0],  [0, -1]], dtype=np.complex128)\n",
    "    id = np.array([[1, 0],  [ 0, 1]], dtype=np.complex128)\n",
    "    S = [id, sx, sy, sz]\n",
    "    labels = ['I', 'sigma_x', 'sigma_y', 'sigma_z']\n",
    "    for i in xrange(4):\n",
    "        for j in xrange(4):\n",
    "            label = labels[i] + ' \\otimes ' + labels[j]\n",
    "            a_ij = 0.25 * HS(kron(S[i], S[j]), H)\n",
    "            if a_ij != 0.0:\n",
    "                print(\"%s\\t*\\t( %s )\" % (c2s(a_ij), label))"
   ]
  },
  {
   "cell_type": "code",
   "execution_count": null,
   "metadata": {},
   "outputs": [],
   "source": []
  }
 ],
 "metadata": {
  "kernelspec": {
   "display_name": "quantum",
   "language": "python",
   "name": "python3"
  },
  "language_info": {
   "codemirror_mode": {
    "name": "ipython",
    "version": 3
   },
   "file_extension": ".py",
   "mimetype": "text/x-python",
   "name": "python",
   "nbconvert_exporter": "python",
   "pygments_lexer": "ipython3",
   "version": "3.11.3"
  },
  "orig_nbformat": 4
 },
 "nbformat": 4,
 "nbformat_minor": 2
}
